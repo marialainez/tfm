{
 "cells": [
  {
   "cell_type": "code",
   "execution_count": 1,
   "id": "foreign-driving",
   "metadata": {},
   "outputs": [],
   "source": [
    "import numpy as np\n",
    "import matplotlib.pyplot as plt\n",
    "import pandas as pd\n",
    "import glob\n",
    "import h5py\n",
    "from datetime import datetime\n",
    "from astropy import units as u\n",
    "from astropy.coordinates import SkyCoord, EarthLocation, builtin_frames, Angle\n",
    "from astropy.coordinates.erfa_astrom import ErfaAstromInterpolator, erfa_astrom\n",
    "from astropy.time import Time\n",
    "from bokeh.io import output_notebook, output_file\n",
    "from bokeh.plotting import figure, show\n",
    "from bokeh.models import ColumnDataSource, Whisker, Step, Title, LinearColorMapper, BasicTicker, ColorBar\n",
    "from bokeh.layouts import row\n",
    "from bokeh.palettes import Inferno256, Greys9\n",
    "import pyirf\n",
    "from pyirf.spectral import CRAB_MAGIC_JHEAP2015\n",
    "from lstchain.reco.utils import  get_effective_time"
   ]
  },
  {
   "cell_type": "code",
   "execution_count": 2,
   "id": "finished-rolling",
   "metadata": {},
   "outputs": [
    {
     "data": {
      "text/html": [
       "\n",
       "    <div class=\"bk-root\">\n",
       "        <a href=\"https://bokeh.org\" target=\"_blank\" class=\"bk-logo bk-logo-small bk-logo-notebook\"></a>\n",
       "        <span id=\"1001\">Loading BokehJS ...</span>\n",
       "    </div>"
      ]
     },
     "metadata": {},
     "output_type": "display_data"
    },
    {
     "data": {
      "application/javascript": [
       "\n",
       "(function(root) {\n",
       "  function now() {\n",
       "    return new Date();\n",
       "  }\n",
       "\n",
       "  var force = true;\n",
       "\n",
       "  if (typeof root._bokeh_onload_callbacks === \"undefined\" || force === true) {\n",
       "    root._bokeh_onload_callbacks = [];\n",
       "    root._bokeh_is_loading = undefined;\n",
       "  }\n",
       "\n",
       "  var JS_MIME_TYPE = 'application/javascript';\n",
       "  var HTML_MIME_TYPE = 'text/html';\n",
       "  var EXEC_MIME_TYPE = 'application/vnd.bokehjs_exec.v0+json';\n",
       "  var CLASS_NAME = 'output_bokeh rendered_html';\n",
       "\n",
       "  /**\n",
       "   * Render data to the DOM node\n",
       "   */\n",
       "  function render(props, node) {\n",
       "    var script = document.createElement(\"script\");\n",
       "    node.appendChild(script);\n",
       "  }\n",
       "\n",
       "  /**\n",
       "   * Handle when an output is cleared or removed\n",
       "   */\n",
       "  function handleClearOutput(event, handle) {\n",
       "    var cell = handle.cell;\n",
       "\n",
       "    var id = cell.output_area._bokeh_element_id;\n",
       "    var server_id = cell.output_area._bokeh_server_id;\n",
       "    // Clean up Bokeh references\n",
       "    if (id != null && id in Bokeh.index) {\n",
       "      Bokeh.index[id].model.document.clear();\n",
       "      delete Bokeh.index[id];\n",
       "    }\n",
       "\n",
       "    if (server_id !== undefined) {\n",
       "      // Clean up Bokeh references\n",
       "      var cmd = \"from bokeh.io.state import curstate; print(curstate().uuid_to_server['\" + server_id + \"'].get_sessions()[0].document.roots[0]._id)\";\n",
       "      cell.notebook.kernel.execute(cmd, {\n",
       "        iopub: {\n",
       "          output: function(msg) {\n",
       "            var id = msg.content.text.trim();\n",
       "            if (id in Bokeh.index) {\n",
       "              Bokeh.index[id].model.document.clear();\n",
       "              delete Bokeh.index[id];\n",
       "            }\n",
       "          }\n",
       "        }\n",
       "      });\n",
       "      // Destroy server and session\n",
       "      var cmd = \"import bokeh.io.notebook as ion; ion.destroy_server('\" + server_id + \"')\";\n",
       "      cell.notebook.kernel.execute(cmd);\n",
       "    }\n",
       "  }\n",
       "\n",
       "  /**\n",
       "   * Handle when a new output is added\n",
       "   */\n",
       "  function handleAddOutput(event, handle) {\n",
       "    var output_area = handle.output_area;\n",
       "    var output = handle.output;\n",
       "\n",
       "    // limit handleAddOutput to display_data with EXEC_MIME_TYPE content only\n",
       "    if ((output.output_type != \"display_data\") || (!output.data.hasOwnProperty(EXEC_MIME_TYPE))) {\n",
       "      return\n",
       "    }\n",
       "\n",
       "    var toinsert = output_area.element.find(\".\" + CLASS_NAME.split(' ')[0]);\n",
       "\n",
       "    if (output.metadata[EXEC_MIME_TYPE][\"id\"] !== undefined) {\n",
       "      toinsert[toinsert.length - 1].firstChild.textContent = output.data[JS_MIME_TYPE];\n",
       "      // store reference to embed id on output_area\n",
       "      output_area._bokeh_element_id = output.metadata[EXEC_MIME_TYPE][\"id\"];\n",
       "    }\n",
       "    if (output.metadata[EXEC_MIME_TYPE][\"server_id\"] !== undefined) {\n",
       "      var bk_div = document.createElement(\"div\");\n",
       "      bk_div.innerHTML = output.data[HTML_MIME_TYPE];\n",
       "      var script_attrs = bk_div.children[0].attributes;\n",
       "      for (var i = 0; i < script_attrs.length; i++) {\n",
       "        toinsert[toinsert.length - 1].firstChild.setAttribute(script_attrs[i].name, script_attrs[i].value);\n",
       "      }\n",
       "      // store reference to server id on output_area\n",
       "      output_area._bokeh_server_id = output.metadata[EXEC_MIME_TYPE][\"server_id\"];\n",
       "    }\n",
       "  }\n",
       "\n",
       "  function register_renderer(events, OutputArea) {\n",
       "\n",
       "    function append_mime(data, metadata, element) {\n",
       "      // create a DOM node to render to\n",
       "      var toinsert = this.create_output_subarea(\n",
       "        metadata,\n",
       "        CLASS_NAME,\n",
       "        EXEC_MIME_TYPE\n",
       "      );\n",
       "      this.keyboard_manager.register_events(toinsert);\n",
       "      // Render to node\n",
       "      var props = {data: data, metadata: metadata[EXEC_MIME_TYPE]};\n",
       "      render(props, toinsert[toinsert.length - 1]);\n",
       "      element.append(toinsert);\n",
       "      return toinsert\n",
       "    }\n",
       "\n",
       "    /* Handle when an output is cleared or removed */\n",
       "    events.on('clear_output.CodeCell', handleClearOutput);\n",
       "    events.on('delete.Cell', handleClearOutput);\n",
       "\n",
       "    /* Handle when a new output is added */\n",
       "    events.on('output_added.OutputArea', handleAddOutput);\n",
       "\n",
       "    /**\n",
       "     * Register the mime type and append_mime function with output_area\n",
       "     */\n",
       "    OutputArea.prototype.register_mime_type(EXEC_MIME_TYPE, append_mime, {\n",
       "      /* Is output safe? */\n",
       "      safe: true,\n",
       "      /* Index of renderer in `output_area.display_order` */\n",
       "      index: 0\n",
       "    });\n",
       "  }\n",
       "\n",
       "  // register the mime type if in Jupyter Notebook environment and previously unregistered\n",
       "  if (root.Jupyter !== undefined) {\n",
       "    var events = require('base/js/events');\n",
       "    var OutputArea = require('notebook/js/outputarea').OutputArea;\n",
       "\n",
       "    if (OutputArea.prototype.mime_types().indexOf(EXEC_MIME_TYPE) == -1) {\n",
       "      register_renderer(events, OutputArea);\n",
       "    }\n",
       "  }\n",
       "\n",
       "  \n",
       "  if (typeof (root._bokeh_timeout) === \"undefined\" || force === true) {\n",
       "    root._bokeh_timeout = Date.now() + 5000;\n",
       "    root._bokeh_failed_load = false;\n",
       "  }\n",
       "\n",
       "  var NB_LOAD_WARNING = {'data': {'text/html':\n",
       "     \"<div style='background-color: #fdd'>\\n\"+\n",
       "     \"<p>\\n\"+\n",
       "     \"BokehJS does not appear to have successfully loaded. If loading BokehJS from CDN, this \\n\"+\n",
       "     \"may be due to a slow or bad network connection. Possible fixes:\\n\"+\n",
       "     \"</p>\\n\"+\n",
       "     \"<ul>\\n\"+\n",
       "     \"<li>re-rerun `output_notebook()` to attempt to load from CDN again, or</li>\\n\"+\n",
       "     \"<li>use INLINE resources instead, as so:</li>\\n\"+\n",
       "     \"</ul>\\n\"+\n",
       "     \"<code>\\n\"+\n",
       "     \"from bokeh.resources import INLINE\\n\"+\n",
       "     \"output_notebook(resources=INLINE)\\n\"+\n",
       "     \"</code>\\n\"+\n",
       "     \"</div>\"}};\n",
       "\n",
       "  function display_loaded() {\n",
       "    var el = document.getElementById(\"1001\");\n",
       "    if (el != null) {\n",
       "      el.textContent = \"BokehJS is loading...\";\n",
       "    }\n",
       "    if (root.Bokeh !== undefined) {\n",
       "      if (el != null) {\n",
       "        el.textContent = \"BokehJS \" + root.Bokeh.version + \" successfully loaded.\";\n",
       "      }\n",
       "    } else if (Date.now() < root._bokeh_timeout) {\n",
       "      setTimeout(display_loaded, 100)\n",
       "    }\n",
       "  }\n",
       "\n",
       "\n",
       "  function run_callbacks() {\n",
       "    try {\n",
       "      root._bokeh_onload_callbacks.forEach(function(callback) {\n",
       "        if (callback != null)\n",
       "          callback();\n",
       "      });\n",
       "    } finally {\n",
       "      delete root._bokeh_onload_callbacks\n",
       "    }\n",
       "    console.debug(\"Bokeh: all callbacks have finished\");\n",
       "  }\n",
       "\n",
       "  function load_libs(css_urls, js_urls, callback) {\n",
       "    if (css_urls == null) css_urls = [];\n",
       "    if (js_urls == null) js_urls = [];\n",
       "\n",
       "    root._bokeh_onload_callbacks.push(callback);\n",
       "    if (root._bokeh_is_loading > 0) {\n",
       "      console.debug(\"Bokeh: BokehJS is being loaded, scheduling callback at\", now());\n",
       "      return null;\n",
       "    }\n",
       "    if (js_urls == null || js_urls.length === 0) {\n",
       "      run_callbacks();\n",
       "      return null;\n",
       "    }\n",
       "    console.debug(\"Bokeh: BokehJS not loaded, scheduling load and callback at\", now());\n",
       "    root._bokeh_is_loading = css_urls.length + js_urls.length;\n",
       "\n",
       "    function on_load() {\n",
       "      root._bokeh_is_loading--;\n",
       "      if (root._bokeh_is_loading === 0) {\n",
       "        console.debug(\"Bokeh: all BokehJS libraries/stylesheets loaded\");\n",
       "        run_callbacks()\n",
       "      }\n",
       "    }\n",
       "\n",
       "    function on_error() {\n",
       "      console.error(\"failed to load \" + url);\n",
       "    }\n",
       "\n",
       "    for (var i = 0; i < css_urls.length; i++) {\n",
       "      var url = css_urls[i];\n",
       "      const element = document.createElement(\"link\");\n",
       "      element.onload = on_load;\n",
       "      element.onerror = on_error;\n",
       "      element.rel = \"stylesheet\";\n",
       "      element.type = \"text/css\";\n",
       "      element.href = url;\n",
       "      console.debug(\"Bokeh: injecting link tag for BokehJS stylesheet: \", url);\n",
       "      document.body.appendChild(element);\n",
       "    }\n",
       "\n",
       "    for (var i = 0; i < js_urls.length; i++) {\n",
       "      var url = js_urls[i];\n",
       "      var element = document.createElement('script');\n",
       "      element.onload = on_load;\n",
       "      element.onerror = on_error;\n",
       "      element.async = false;\n",
       "      element.src = url;\n",
       "      console.debug(\"Bokeh: injecting script tag for BokehJS library: \", url);\n",
       "      document.head.appendChild(element);\n",
       "    }\n",
       "  };var element = document.getElementById(\"1001\");\n",
       "  if (element == null) {\n",
       "    console.error(\"Bokeh: ERROR: autoload.js configured with elementid '1001' but no matching script tag was found. \")\n",
       "    return false;\n",
       "  }\n",
       "\n",
       "  function inject_raw_css(css) {\n",
       "    const element = document.createElement(\"style\");\n",
       "    element.appendChild(document.createTextNode(css));\n",
       "    document.body.appendChild(element);\n",
       "  }\n",
       "\n",
       "  \n",
       "  var js_urls = [\"https://cdn.pydata.org/bokeh/release/bokeh-1.4.0.min.js\", \"https://cdn.pydata.org/bokeh/release/bokeh-widgets-1.4.0.min.js\", \"https://cdn.pydata.org/bokeh/release/bokeh-tables-1.4.0.min.js\", \"https://cdn.pydata.org/bokeh/release/bokeh-gl-1.4.0.min.js\"];\n",
       "  var css_urls = [];\n",
       "  \n",
       "\n",
       "  var inline_js = [\n",
       "    function(Bokeh) {\n",
       "      Bokeh.set_log_level(\"info\");\n",
       "    },\n",
       "    function(Bokeh) {\n",
       "    \n",
       "    \n",
       "    }\n",
       "  ];\n",
       "\n",
       "  function run_inline_js() {\n",
       "    \n",
       "    if (root.Bokeh !== undefined || force === true) {\n",
       "      \n",
       "    for (var i = 0; i < inline_js.length; i++) {\n",
       "      inline_js[i].call(root, root.Bokeh);\n",
       "    }\n",
       "    if (force === true) {\n",
       "        display_loaded();\n",
       "      }} else if (Date.now() < root._bokeh_timeout) {\n",
       "      setTimeout(run_inline_js, 100);\n",
       "    } else if (!root._bokeh_failed_load) {\n",
       "      console.log(\"Bokeh: BokehJS failed to load within specified timeout.\");\n",
       "      root._bokeh_failed_load = true;\n",
       "    } else if (force !== true) {\n",
       "      var cell = $(document.getElementById(\"1001\")).parents('.cell').data().cell;\n",
       "      cell.output_area.append_execute_result(NB_LOAD_WARNING)\n",
       "    }\n",
       "\n",
       "  }\n",
       "\n",
       "  if (root._bokeh_is_loading === 0) {\n",
       "    console.debug(\"Bokeh: BokehJS loaded, going straight to plotting\");\n",
       "    run_inline_js();\n",
       "  } else {\n",
       "    load_libs(css_urls, js_urls, function() {\n",
       "      console.debug(\"Bokeh: BokehJS plotting callback run at\", now());\n",
       "      run_inline_js();\n",
       "    });\n",
       "  }\n",
       "}(window));"
      ],
      "application/vnd.bokehjs_load.v0+json": "\n(function(root) {\n  function now() {\n    return new Date();\n  }\n\n  var force = true;\n\n  if (typeof root._bokeh_onload_callbacks === \"undefined\" || force === true) {\n    root._bokeh_onload_callbacks = [];\n    root._bokeh_is_loading = undefined;\n  }\n\n  \n\n  \n  if (typeof (root._bokeh_timeout) === \"undefined\" || force === true) {\n    root._bokeh_timeout = Date.now() + 5000;\n    root._bokeh_failed_load = false;\n  }\n\n  var NB_LOAD_WARNING = {'data': {'text/html':\n     \"<div style='background-color: #fdd'>\\n\"+\n     \"<p>\\n\"+\n     \"BokehJS does not appear to have successfully loaded. If loading BokehJS from CDN, this \\n\"+\n     \"may be due to a slow or bad network connection. Possible fixes:\\n\"+\n     \"</p>\\n\"+\n     \"<ul>\\n\"+\n     \"<li>re-rerun `output_notebook()` to attempt to load from CDN again, or</li>\\n\"+\n     \"<li>use INLINE resources instead, as so:</li>\\n\"+\n     \"</ul>\\n\"+\n     \"<code>\\n\"+\n     \"from bokeh.resources import INLINE\\n\"+\n     \"output_notebook(resources=INLINE)\\n\"+\n     \"</code>\\n\"+\n     \"</div>\"}};\n\n  function display_loaded() {\n    var el = document.getElementById(\"1001\");\n    if (el != null) {\n      el.textContent = \"BokehJS is loading...\";\n    }\n    if (root.Bokeh !== undefined) {\n      if (el != null) {\n        el.textContent = \"BokehJS \" + root.Bokeh.version + \" successfully loaded.\";\n      }\n    } else if (Date.now() < root._bokeh_timeout) {\n      setTimeout(display_loaded, 100)\n    }\n  }\n\n\n  function run_callbacks() {\n    try {\n      root._bokeh_onload_callbacks.forEach(function(callback) {\n        if (callback != null)\n          callback();\n      });\n    } finally {\n      delete root._bokeh_onload_callbacks\n    }\n    console.debug(\"Bokeh: all callbacks have finished\");\n  }\n\n  function load_libs(css_urls, js_urls, callback) {\n    if (css_urls == null) css_urls = [];\n    if (js_urls == null) js_urls = [];\n\n    root._bokeh_onload_callbacks.push(callback);\n    if (root._bokeh_is_loading > 0) {\n      console.debug(\"Bokeh: BokehJS is being loaded, scheduling callback at\", now());\n      return null;\n    }\n    if (js_urls == null || js_urls.length === 0) {\n      run_callbacks();\n      return null;\n    }\n    console.debug(\"Bokeh: BokehJS not loaded, scheduling load and callback at\", now());\n    root._bokeh_is_loading = css_urls.length + js_urls.length;\n\n    function on_load() {\n      root._bokeh_is_loading--;\n      if (root._bokeh_is_loading === 0) {\n        console.debug(\"Bokeh: all BokehJS libraries/stylesheets loaded\");\n        run_callbacks()\n      }\n    }\n\n    function on_error() {\n      console.error(\"failed to load \" + url);\n    }\n\n    for (var i = 0; i < css_urls.length; i++) {\n      var url = css_urls[i];\n      const element = document.createElement(\"link\");\n      element.onload = on_load;\n      element.onerror = on_error;\n      element.rel = \"stylesheet\";\n      element.type = \"text/css\";\n      element.href = url;\n      console.debug(\"Bokeh: injecting link tag for BokehJS stylesheet: \", url);\n      document.body.appendChild(element);\n    }\n\n    for (var i = 0; i < js_urls.length; i++) {\n      var url = js_urls[i];\n      var element = document.createElement('script');\n      element.onload = on_load;\n      element.onerror = on_error;\n      element.async = false;\n      element.src = url;\n      console.debug(\"Bokeh: injecting script tag for BokehJS library: \", url);\n      document.head.appendChild(element);\n    }\n  };var element = document.getElementById(\"1001\");\n  if (element == null) {\n    console.error(\"Bokeh: ERROR: autoload.js configured with elementid '1001' but no matching script tag was found. \")\n    return false;\n  }\n\n  function inject_raw_css(css) {\n    const element = document.createElement(\"style\");\n    element.appendChild(document.createTextNode(css));\n    document.body.appendChild(element);\n  }\n\n  \n  var js_urls = [\"https://cdn.pydata.org/bokeh/release/bokeh-1.4.0.min.js\", \"https://cdn.pydata.org/bokeh/release/bokeh-widgets-1.4.0.min.js\", \"https://cdn.pydata.org/bokeh/release/bokeh-tables-1.4.0.min.js\", \"https://cdn.pydata.org/bokeh/release/bokeh-gl-1.4.0.min.js\"];\n  var css_urls = [];\n  \n\n  var inline_js = [\n    function(Bokeh) {\n      Bokeh.set_log_level(\"info\");\n    },\n    function(Bokeh) {\n    \n    \n    }\n  ];\n\n  function run_inline_js() {\n    \n    if (root.Bokeh !== undefined || force === true) {\n      \n    for (var i = 0; i < inline_js.length; i++) {\n      inline_js[i].call(root, root.Bokeh);\n    }\n    if (force === true) {\n        display_loaded();\n      }} else if (Date.now() < root._bokeh_timeout) {\n      setTimeout(run_inline_js, 100);\n    } else if (!root._bokeh_failed_load) {\n      console.log(\"Bokeh: BokehJS failed to load within specified timeout.\");\n      root._bokeh_failed_load = true;\n    } else if (force !== true) {\n      var cell = $(document.getElementById(\"1001\")).parents('.cell').data().cell;\n      cell.output_area.append_execute_result(NB_LOAD_WARNING)\n    }\n\n  }\n\n  if (root._bokeh_is_loading === 0) {\n    console.debug(\"Bokeh: BokehJS loaded, going straight to plotting\");\n    run_inline_js();\n  } else {\n    load_libs(css_urls, js_urls, function() {\n      console.debug(\"Bokeh: BokehJS plotting callback run at\", now());\n      run_inline_js();\n    });\n  }\n}(window));"
     },
     "metadata": {},
     "output_type": "display_data"
    }
   ],
   "source": [
    "output_notebook()"
   ]
  },
  {
   "cell_type": "code",
   "execution_count": 3,
   "id": "894d7164",
   "metadata": {},
   "outputs": [
    {
     "name": "stdout",
     "output_type": "stream",
     "text": [
      "/data/cta/users-ifae/moralejo/CTA/LST/RealData/DL2/lstchain_v0.7/20201120/dl2_LST-1.Run02967.h5\n",
      "    Eff. time:  1150.907389119496 s\n",
      "/data/cta/users-ifae/moralejo/CTA/LST/RealData/DL2/lstchain_v0.7/20201120/dl2_LST-1.Run02968.h5\n",
      "    Eff. time:  1134.3777728726045 s\n",
      "/data/cta/users-ifae/moralejo/CTA/LST/RealData/DL2/lstchain_v0.7/20201120/dl2_LST-1.Run02969.h5\n",
      "    Eff. time:  1133.3006634662083 s\n",
      "/data/cta/users-ifae/moralejo/CTA/LST/RealData/DL2/lstchain_v0.7/20201120/dl2_LST-1.Run02970.h5\n",
      "    Eff. time:  1129.4495074792453 s\n",
      "/data/cta/users-ifae/moralejo/CTA/LST/RealData/DL2/lstchain_v0.7/20201120/dl2_LST-1.Run02971.h5\n",
      "    Eff. time:  1138.1310969248639 s\n",
      "/data/cta/users-ifae/moralejo/CTA/LST/RealData/DL2/lstchain_v0.7/20201120/dl2_LST-1.Run02972.h5\n",
      "    Eff. time:  1133.7806966865987 s\n",
      "/data/cta/users-ifae/moralejo/CTA/LST/RealData/DL2/lstchain_v0.7/20201120/dl2_LST-1.Run02973.h5\n",
      "    Eff. time:  1131.119014313473 s\n",
      "/data/cta/users-ifae/moralejo/CTA/LST/RealData/DL2/lstchain_v0.7/20201120/dl2_LST-1.Run02974.h5\n",
      "    Eff. time:  1138.7933496260187 s\n",
      "/data/cta/users-ifae/moralejo/CTA/LST/RealData/DL2/lstchain_v0.7/20201120/dl2_LST-1.Run02975.h5\n",
      "    Eff. time:  1135.4444353624792 s\n",
      "/data/cta/users-ifae/moralejo/CTA/LST/RealData/DL2/lstchain_v0.7/20201120/dl2_LST-1.Run02976.h5\n",
      "    Eff. time:  1109.6089603343244 s\n",
      "/data/cta/users-ifae/moralejo/CTA/LST/RealData/DL2/lstchain_v0.7/20201120/dl2_LST-1.Run02977.h5\n",
      "    Eff. time:  1128.595956191783 s\n"
     ]
    },
    {
     "ename": "MemoryError",
     "evalue": "Unable to allocate 1.41 GiB for an array with shape (8, 47323819) and data type float32",
     "output_type": "error",
     "traceback": [
      "\u001b[0;31m---------------------------------------------------------------------------\u001b[0m",
      "\u001b[0;31mMemoryError\u001b[0m                               Traceback (most recent call last)",
      "\u001b[0;32m<ipython-input-3-dbcbac1963e9>\u001b[0m in \u001b[0;36m<module>\u001b[0;34m\u001b[0m\n\u001b[1;32m     24\u001b[0m     \u001b[0mdummy2\u001b[0m\u001b[0;34m.\u001b[0m\u001b[0mappend\u001b[0m\u001b[0;34m(\u001b[0m\u001b[0mpd\u001b[0m\u001b[0;34m.\u001b[0m\u001b[0mread_hdf\u001b[0m\u001b[0;34m(\u001b[0m\u001b[0mfile\u001b[0m\u001b[0;34m,\u001b[0m \u001b[0;34m'source_position'\u001b[0m\u001b[0;34m)\u001b[0m\u001b[0;34m.\u001b[0m\u001b[0mastype\u001b[0m\u001b[0;34m(\u001b[0m\u001b[0;34m'float32'\u001b[0m\u001b[0;34m)\u001b[0m\u001b[0;34m)\u001b[0m\u001b[0;34m\u001b[0m\u001b[0;34m\u001b[0m\u001b[0m\n\u001b[1;32m     25\u001b[0m \u001b[0;34m\u001b[0m\u001b[0m\n\u001b[0;32m---> 26\u001b[0;31m \u001b[0mtot_data\u001b[0m \u001b[0;34m=\u001b[0m \u001b[0mpd\u001b[0m\u001b[0;34m.\u001b[0m\u001b[0mconcat\u001b[0m\u001b[0;34m(\u001b[0m\u001b[0mdummy1\u001b[0m\u001b[0;34m,\u001b[0m \u001b[0mignore_index\u001b[0m\u001b[0;34m=\u001b[0m\u001b[0;32mTrue\u001b[0m\u001b[0;34m)\u001b[0m\u001b[0;34m\u001b[0m\u001b[0;34m\u001b[0m\u001b[0m\n\u001b[0m\u001b[1;32m     27\u001b[0m \u001b[0msource_position\u001b[0m \u001b[0;34m=\u001b[0m \u001b[0mpd\u001b[0m\u001b[0;34m.\u001b[0m\u001b[0mconcat\u001b[0m\u001b[0;34m(\u001b[0m\u001b[0mdummy2\u001b[0m\u001b[0;34m,\u001b[0m \u001b[0mignore_index\u001b[0m\u001b[0;34m=\u001b[0m\u001b[0;32mTrue\u001b[0m\u001b[0;34m)\u001b[0m\u001b[0;34m\u001b[0m\u001b[0;34m\u001b[0m\u001b[0m\n\u001b[1;32m     28\u001b[0m \u001b[0mprint\u001b[0m\u001b[0;34m(\u001b[0m\u001b[0mtot_data\u001b[0m\u001b[0;34m.\u001b[0m\u001b[0mcolumns\u001b[0m\u001b[0;34m)\u001b[0m\u001b[0;34m\u001b[0m\u001b[0;34m\u001b[0m\u001b[0m\n",
      "\u001b[0;32m/data/cta/users-ifae/mlainez/miniconda3/envs/lst-dev/lib/python3.7/site-packages/pandas/util/_decorators.py\u001b[0m in \u001b[0;36mwrapper\u001b[0;34m(*args, **kwargs)\u001b[0m\n\u001b[1;32m    309\u001b[0m                     \u001b[0mstacklevel\u001b[0m\u001b[0;34m=\u001b[0m\u001b[0mstacklevel\u001b[0m\u001b[0;34m,\u001b[0m\u001b[0;34m\u001b[0m\u001b[0;34m\u001b[0m\u001b[0m\n\u001b[1;32m    310\u001b[0m                 )\n\u001b[0;32m--> 311\u001b[0;31m             \u001b[0;32mreturn\u001b[0m \u001b[0mfunc\u001b[0m\u001b[0;34m(\u001b[0m\u001b[0;34m*\u001b[0m\u001b[0margs\u001b[0m\u001b[0;34m,\u001b[0m \u001b[0;34m**\u001b[0m\u001b[0mkwargs\u001b[0m\u001b[0;34m)\u001b[0m\u001b[0;34m\u001b[0m\u001b[0;34m\u001b[0m\u001b[0m\n\u001b[0m\u001b[1;32m    312\u001b[0m \u001b[0;34m\u001b[0m\u001b[0m\n\u001b[1;32m    313\u001b[0m         \u001b[0;32mreturn\u001b[0m \u001b[0mwrapper\u001b[0m\u001b[0;34m\u001b[0m\u001b[0;34m\u001b[0m\u001b[0m\n",
      "\u001b[0;32m/data/cta/users-ifae/mlainez/miniconda3/envs/lst-dev/lib/python3.7/site-packages/pandas/core/reshape/concat.py\u001b[0m in \u001b[0;36mconcat\u001b[0;34m(objs, axis, join, ignore_index, keys, levels, names, verify_integrity, sort, copy)\u001b[0m\n\u001b[1;32m    305\u001b[0m     )\n\u001b[1;32m    306\u001b[0m \u001b[0;34m\u001b[0m\u001b[0m\n\u001b[0;32m--> 307\u001b[0;31m     \u001b[0;32mreturn\u001b[0m \u001b[0mop\u001b[0m\u001b[0;34m.\u001b[0m\u001b[0mget_result\u001b[0m\u001b[0;34m(\u001b[0m\u001b[0;34m)\u001b[0m\u001b[0;34m\u001b[0m\u001b[0;34m\u001b[0m\u001b[0m\n\u001b[0m\u001b[1;32m    308\u001b[0m \u001b[0;34m\u001b[0m\u001b[0m\n\u001b[1;32m    309\u001b[0m \u001b[0;34m\u001b[0m\u001b[0m\n",
      "\u001b[0;32m/data/cta/users-ifae/mlainez/miniconda3/envs/lst-dev/lib/python3.7/site-packages/pandas/core/reshape/concat.py\u001b[0m in \u001b[0;36mget_result\u001b[0;34m(self)\u001b[0m\n\u001b[1;32m    531\u001b[0m \u001b[0;34m\u001b[0m\u001b[0m\n\u001b[1;32m    532\u001b[0m             new_data = concatenate_managers(\n\u001b[0;32m--> 533\u001b[0;31m                 \u001b[0mmgrs_indexers\u001b[0m\u001b[0;34m,\u001b[0m \u001b[0mself\u001b[0m\u001b[0;34m.\u001b[0m\u001b[0mnew_axes\u001b[0m\u001b[0;34m,\u001b[0m \u001b[0mconcat_axis\u001b[0m\u001b[0;34m=\u001b[0m\u001b[0mself\u001b[0m\u001b[0;34m.\u001b[0m\u001b[0mbm_axis\u001b[0m\u001b[0;34m,\u001b[0m \u001b[0mcopy\u001b[0m\u001b[0;34m=\u001b[0m\u001b[0mself\u001b[0m\u001b[0;34m.\u001b[0m\u001b[0mcopy\u001b[0m\u001b[0;34m\u001b[0m\u001b[0;34m\u001b[0m\u001b[0m\n\u001b[0m\u001b[1;32m    534\u001b[0m             )\n\u001b[1;32m    535\u001b[0m             \u001b[0;32mif\u001b[0m \u001b[0;32mnot\u001b[0m \u001b[0mself\u001b[0m\u001b[0;34m.\u001b[0m\u001b[0mcopy\u001b[0m\u001b[0;34m:\u001b[0m\u001b[0;34m\u001b[0m\u001b[0;34m\u001b[0m\u001b[0m\n",
      "\u001b[0;32m/data/cta/users-ifae/mlainez/miniconda3/envs/lst-dev/lib/python3.7/site-packages/pandas/core/internals/concat.py\u001b[0m in \u001b[0;36mconcatenate_managers\u001b[0;34m(mgrs_indexers, axes, concat_axis, copy)\u001b[0m\n\u001b[1;32m    220\u001b[0m             \u001b[0mfastpath\u001b[0m \u001b[0;34m=\u001b[0m \u001b[0mblk\u001b[0m\u001b[0;34m.\u001b[0m\u001b[0mvalues\u001b[0m\u001b[0;34m.\u001b[0m\u001b[0mdtype\u001b[0m \u001b[0;34m==\u001b[0m \u001b[0mvalues\u001b[0m\u001b[0;34m.\u001b[0m\u001b[0mdtype\u001b[0m\u001b[0;34m\u001b[0m\u001b[0;34m\u001b[0m\u001b[0m\n\u001b[1;32m    221\u001b[0m         \u001b[0;32melse\u001b[0m\u001b[0;34m:\u001b[0m\u001b[0;34m\u001b[0m\u001b[0;34m\u001b[0m\u001b[0m\n\u001b[0;32m--> 222\u001b[0;31m             \u001b[0mvalues\u001b[0m \u001b[0;34m=\u001b[0m \u001b[0m_concatenate_join_units\u001b[0m\u001b[0;34m(\u001b[0m\u001b[0mjoin_units\u001b[0m\u001b[0;34m,\u001b[0m \u001b[0mconcat_axis\u001b[0m\u001b[0;34m,\u001b[0m \u001b[0mcopy\u001b[0m\u001b[0;34m=\u001b[0m\u001b[0mcopy\u001b[0m\u001b[0;34m)\u001b[0m\u001b[0;34m\u001b[0m\u001b[0;34m\u001b[0m\u001b[0m\n\u001b[0m\u001b[1;32m    223\u001b[0m             \u001b[0mfastpath\u001b[0m \u001b[0;34m=\u001b[0m \u001b[0;32mFalse\u001b[0m\u001b[0;34m\u001b[0m\u001b[0;34m\u001b[0m\u001b[0m\n\u001b[1;32m    224\u001b[0m \u001b[0;34m\u001b[0m\u001b[0m\n",
      "\u001b[0;32m/data/cta/users-ifae/mlainez/miniconda3/envs/lst-dev/lib/python3.7/site-packages/pandas/core/internals/concat.py\u001b[0m in \u001b[0;36m_concatenate_join_units\u001b[0;34m(join_units, concat_axis, copy)\u001b[0m\n\u001b[1;32m    517\u001b[0m \u001b[0;34m\u001b[0m\u001b[0m\n\u001b[1;32m    518\u001b[0m     \u001b[0;32melse\u001b[0m\u001b[0;34m:\u001b[0m\u001b[0;34m\u001b[0m\u001b[0;34m\u001b[0m\u001b[0m\n\u001b[0;32m--> 519\u001b[0;31m         \u001b[0mconcat_values\u001b[0m \u001b[0;34m=\u001b[0m \u001b[0mconcat_compat\u001b[0m\u001b[0;34m(\u001b[0m\u001b[0mto_concat\u001b[0m\u001b[0;34m,\u001b[0m \u001b[0maxis\u001b[0m\u001b[0;34m=\u001b[0m\u001b[0mconcat_axis\u001b[0m\u001b[0;34m)\u001b[0m\u001b[0;34m\u001b[0m\u001b[0;34m\u001b[0m\u001b[0m\n\u001b[0m\u001b[1;32m    520\u001b[0m \u001b[0;34m\u001b[0m\u001b[0m\n\u001b[1;32m    521\u001b[0m     \u001b[0;32mreturn\u001b[0m \u001b[0mconcat_values\u001b[0m\u001b[0;34m\u001b[0m\u001b[0;34m\u001b[0m\u001b[0m\n",
      "\u001b[0;32m/data/cta/users-ifae/mlainez/miniconda3/envs/lst-dev/lib/python3.7/site-packages/pandas/core/dtypes/concat.py\u001b[0m in \u001b[0;36mconcat_compat\u001b[0;34m(to_concat, axis, ea_compat_axis)\u001b[0m\n\u001b[1;32m    149\u001b[0m                 \u001b[0mto_concat\u001b[0m \u001b[0;34m=\u001b[0m \u001b[0;34m[\u001b[0m\u001b[0mx\u001b[0m\u001b[0;34m.\u001b[0m\u001b[0mastype\u001b[0m\u001b[0;34m(\u001b[0m\u001b[0;34m\"object\"\u001b[0m\u001b[0;34m)\u001b[0m \u001b[0;32mfor\u001b[0m \u001b[0mx\u001b[0m \u001b[0;32min\u001b[0m \u001b[0mto_concat\u001b[0m\u001b[0;34m]\u001b[0m\u001b[0;34m\u001b[0m\u001b[0;34m\u001b[0m\u001b[0m\n\u001b[1;32m    150\u001b[0m \u001b[0;34m\u001b[0m\u001b[0m\n\u001b[0;32m--> 151\u001b[0;31m     \u001b[0;32mreturn\u001b[0m \u001b[0mnp\u001b[0m\u001b[0;34m.\u001b[0m\u001b[0mconcatenate\u001b[0m\u001b[0;34m(\u001b[0m\u001b[0mto_concat\u001b[0m\u001b[0;34m,\u001b[0m \u001b[0maxis\u001b[0m\u001b[0;34m=\u001b[0m\u001b[0maxis\u001b[0m\u001b[0;34m)\u001b[0m\u001b[0;34m\u001b[0m\u001b[0;34m\u001b[0m\u001b[0m\n\u001b[0m\u001b[1;32m    152\u001b[0m \u001b[0;34m\u001b[0m\u001b[0m\n\u001b[1;32m    153\u001b[0m \u001b[0;34m\u001b[0m\u001b[0m\n",
      "\u001b[0;32m<__array_function__ internals>\u001b[0m in \u001b[0;36mconcatenate\u001b[0;34m(*args, **kwargs)\u001b[0m\n",
      "\u001b[0;31mMemoryError\u001b[0m: Unable to allocate 1.41 GiB for an array with shape (8, 47323819) and data type float32"
     ]
    }
   ],
   "source": [
    "filenames = glob.glob('/data/cta/users-ifae/moralejo/CTA/LST/RealData/DL2/lstchain_v0.7/20201120/dl2_*Run?????.h5')\n",
    "filenames.sort()\n",
    "\n",
    "dummy1 = []\n",
    "dummy2 = []\n",
    "\n",
    "columns = ['intensity', 'log_intensity', 'length', 'width', 'alt_tel', 'az_tel', 'dragon_time', 'event_type', \n",
    "           'delta_t', 'reco_energy', 'reco_src_x', 'reco_src_y', 'reco_alt', 'reco_az', 'gammaness']\n",
    "\n",
    "# effective time in seconds:\n",
    "effective_time = 0\n",
    "\n",
    "for file in filenames:\n",
    "    print(file)\n",
    "    tt = pd.read_hdf(file, '/dl2/event/telescope/parameters/LST_LSTCam').astype('float32')[columns]\n",
    "    # Remove dragon_time and read it again with the original float64 precision:\n",
    "    tt.drop('dragon_time', axis=1)\n",
    "    tt['dragon_time'] = pd.read_hdf(file, '/dl2/event/telescope/parameters/LST_LSTCam')['dragon_time'] \n",
    "    dummy1.append(tt)\n",
    "    efft, _ = get_effective_time(tt)\n",
    "    print(\"    Eff. time: \", efft)\n",
    "    effective_time += efft.value\n",
    "    \n",
    "    dummy2.append(pd.read_hdf(file, 'source_position').astype('float32'))\n",
    "\n",
    "tot_data = pd.concat(dummy1, ignore_index=True)\n",
    "source_position = pd.concat(dummy2, ignore_index=True)\n",
    "print(tot_data.columns)\n",
    "print(source_position.columns)"
   ]
  },
  {
   "cell_type": "code",
   "execution_count": null,
   "id": "b32a57d0",
   "metadata": {},
   "outputs": [],
   "source": [
    "effective_time"
   ]
  },
  {
   "cell_type": "code",
   "execution_count": null,
   "id": "d0b265f0",
   "metadata": {
    "scrolled": true
   },
   "outputs": [],
   "source": [
    "mask = tot_data['event_type']==32\n",
    "tot_data = tot_data[mask]  #to ignore the calibration events\n",
    "tot_data.head()"
   ]
  },
  {
   "cell_type": "code",
   "execution_count": null,
   "id": "a81fa1ed",
   "metadata": {},
   "outputs": [],
   "source": [
    "source_position = source_position[mask]  #to ignore the calibration events\n",
    "source_position.head()"
   ]
  },
  {
   "cell_type": "code",
   "execution_count": null,
   "id": "fc78c8ac",
   "metadata": {},
   "outputs": [],
   "source": [
    "tot_data.shape"
   ]
  },
  {
   "cell_type": "code",
   "execution_count": null,
   "id": "2cec69c3",
   "metadata": {},
   "outputs": [],
   "source": [
    "source_position.shape"
   ]
  },
  {
   "cell_type": "code",
   "execution_count": null,
   "id": "9546e1f8",
   "metadata": {},
   "outputs": [],
   "source": [
    "N, b = np.histogram(np.array(tot_data['delta_t']), bins = 100)  #distribution of the variable delta_t\n",
    "fig = figure(plot_width=450, plot_height=300)\n",
    "fig.quad(top=N, bottom=0, left=b[:-1], right=b[1:])\n",
    "show(fig)"
   ]
  },
  {
   "cell_type": "markdown",
   "id": "binary-worry",
   "metadata": {},
   "source": [
    "## Ver que hay un exceso significativo de sucesos (gammas) en las coordenadas del Crab y estimar el número de gammas (haciendo \"aperture photometry\"), tomando 3 zonas off creando una cruz con la posición del Crab (para tener más estadística para calcular el fondo)."
   ]
  },
  {
   "cell_type": "code",
   "execution_count": null,
   "id": "172d2208",
   "metadata": {},
   "outputs": [],
   "source": [
    "def off_zones(df, source_df):   #function that defines the three mentioned off zones and returns the angular separation between the position of each event and each off zone. INPUTS: dataframe with all the events, and a dataframe with the position of the source (Crab)\n",
    "    src_x = source_df['src_x']/28   #to convert the source_position into radians, we divide by the focal distance (28 m), and then convert to degrees\n",
    "    src_y = source_df['src_y']/28\n",
    "    \n",
    "    reco_src_x = df['reco_src_x']/28  #reconstructed position of the detected events in radians\n",
    "    reco_src_y = df['reco_src_y']/28\n",
    "    \n",
    "    theta2_on = (np.sqrt((src_x - reco_src_x)**2 + (src_y - reco_src_y)**2)*180/np.pi)**2  #angular separation (in degrees) between the events and the position of the Crab \n",
    "    theta2_off1 = (np.sqrt((-src_x - reco_src_x)**2 + (-src_y - reco_src_y)**2)*180/np.pi)**2  #separation between the events and symmetric position of the Crab wrt the center of the FOV (-src_x, -src_y)\n",
    "    #theta2_off2 = (np.sqrt((-src_y - reco_src_x)**2 + (src_x - reco_src_y)**2)*180/np.pi)**2   #separation wrt position (-src_y, src_x)\n",
    "    #theta2_off3 = (np.sqrt((src_y - reco_src_x)**2 + (-src_x - reco_src_y)**2)*180/np.pi)**2   #separation wrt position (src_y, -src_x)\n",
    "   \n",
    "    return theta2_on, theta2_off1 #, theta2_off2, theta2_off3 "
   ]
  },
  {
   "cell_type": "code",
   "execution_count": null,
   "id": "honey-guidance",
   "metadata": {},
   "outputs": [],
   "source": [
    "def gamma_excess(df, source_position, bins, xlims = (0, 2.5)):    #function that returns the excess of gamma rays of a given dataframe \n",
    "    idx = df.index\n",
    "    theta2 = off_zones(df, source_position.loc[idx])\n",
    "    \n",
    "    n = [0]*4\n",
    "    b = [0]*4\n",
    "    colors = ['blue', 'orange', 'green', 'magenta']\n",
    "    fig1 = figure(plot_width=600, plot_height=400, x_range=(xlims))\n",
    "    for i in range(2):\n",
    "        n[i], b[i] = np.histogram(np.array(theta2[i]), bins=bins, range = (xlims))\n",
    "        \n",
    "        source = ColumnDataSource(dict(x=(b[i][1:]+b[i][:-1])/2, y=n[i]))\n",
    "        glyph1 = Step(x='x', y='y', line_color=colors[i], mode='center')\n",
    "        fig1.add_glyph(source, glyph1)\n",
    "\n",
    "        base = (b[i][1:]+b[i][:-1])/2\n",
    "        lower = n[i]-np.sqrt(n[i])/2\n",
    "        upper = n[i]+np.sqrt(n[i])/2\n",
    "        source_error = ColumnDataSource(data=dict(base=base, lower=lower, upper=upper))\n",
    "        w=Whisker(source=source_error, base='base', upper='upper', lower='lower', line_color='gray')\n",
    "        w.upper_head.line_color = 'gray'\n",
    "        w.lower_head.line_color = 'gray'\n",
    "        fig1.add_layout(w)\n",
    "    \n",
    "    fig1.xaxis.axis_label = 'theta²'\n",
    "    fig1.yaxis.axis_label = 'counts'\n",
    "    show(fig1)\n",
    "\n",
    "    excess_gammas = n[0][0]+n[0][1]-n[1][0]-n[1][1]\n",
    "    return print('Excess of gamma rays: {}'. format(excess_gammas))"
   ]
  },
  {
   "cell_type": "markdown",
   "id": "accompanied-struggle",
   "metadata": {},
   "source": [
    "## Obtain the distribution of theta², width, length and intensity of (only) the gamma rays."
   ]
  },
  {
   "cell_type": "markdown",
   "id": "imperial-motion",
   "metadata": {},
   "source": [
    "#### *** ERROR PROPAGATION: \n",
    "\n",
    "($n_1$, $n_2$, $n_3$, $n_4$): histogram bins (for each position) \n",
    "\n",
    "($\\sqrt{n_1}$, $\\sqrt{n_2}$, $\\sqrt{n_3}$, $\\sqrt{n_4}$): errors of each \"variable\" ($n_i$)\n",
    "\n",
    "new variable (function of $(n_1, n_2, n_3, n_4)$): $n(n_1, n_2, n_3, n_4)=n_1-\\frac{1}{3}(n_2+n_3+n_4)$\n",
    "\n",
    "Covariance matrix of the variables $n_i$ (since $\\sigma_i=\\sqrt{n_i}$ and $cov(x_i,x_i)=\\sigma_i²$): \n",
    "\n",
    "\\begin{equation*}\n",
    "V = cov[n_i,n_j]=\n",
    "\\begin{pmatrix}\n",
    "n_1 &  &  & \\\\\n",
    "& n_2 &  & \\\\\n",
    " &  & n_3 &  \\\\\n",
    " &  &  &  n_4\n",
    "\\end{pmatrix}\n",
    "\\end{equation*}\n",
    "\n",
    "To obtain the variance $U$ of the variable $n$, we use error propagation: \n",
    "$$U = \\sum_{k,l=1}^n \\frac{\\partial n}{\\partial n_i} \\frac{\\partial n}{\\partial n_j} V_{kl}$$\n",
    "$$A_1 = \\frac{\\partial n}{\\partial n_1}=1  ; \\quad A_2=A_3=A_4=-1/3 \\quad \\Rightarrow U=V_{11}+\\frac{1}{9}(V_{22}+V_{33}+V_{44})$$"
   ]
  },
  {
   "cell_type": "code",
   "execution_count": null,
   "id": "a426ba90",
   "metadata": {},
   "outputs": [],
   "source": [
    "def dfs(df):   \n",
    "    idx = df.index\n",
    "    theta2 = off_zones(df, source_position.loc[idx])\n",
    "    \n",
    "    gammas = df.iloc[np.where(theta2[0]<0.05)]   #dataframe that contains only the events 0.05 degrees around the position of the crab (gammas + bkg of cosmic rays)\n",
    "    bkg2 = df.iloc[np.where(theta2[1]<0.05)]   #dataframe that contains only the events 0.05 degrees around the off zone 1 (bkg of cosmic rays)\n",
    "    #bkg3 = df.iloc[np.where(theta2[2]<0.05)]   #dataframe that contains only the events 0.05 degrees around the off zone 2 (bkg of cosmic rays)\n",
    "    #bkg4 = df.iloc[np.where(theta2[3]<0.05)]   #dataframe that contains only the events 0.05 degrees around the off zone 3 (bkg of cosmic rays)\n",
    "    \n",
    "    dfs = [gammas, bkg2]#, bkg3, bkg4]\n",
    "    return dfs"
   ]
  },
  {
   "cell_type": "code",
   "execution_count": null,
   "id": "fresh-prior",
   "metadata": {},
   "outputs": [],
   "source": [
    "def distribution(df, parameter, bins, xlims = None, show_bkg = True):   #function that returns the distribution of a given parameter using a given dataframe (with a given cut in gammaness)  \n",
    "    idx = list(df.columns).index(parameter)\n",
    "    par = df.columns[idx] \n",
    "    \n",
    "    n = [0]*4\n",
    "    b = [0]*4\n",
    "    colors = ['blue', 'orange', 'green', 'magenta']\n",
    "    fig1 = figure(title = 'Distribution of {} of the gamma rays + background of cosmic rays'.format(par),\n",
    "                  plot_width=450, plot_height=300, x_range=xlims)\n",
    "    names = dfs(df)\n",
    "    for i in range(2):\n",
    "        name = names[i]\n",
    "        \n",
    "        if i == 0:\n",
    "            xlims = xlims\n",
    "        else:\n",
    "            xlims = (b[0][0], b[0][-1])\n",
    "        \n",
    "        n[i], b[i] = np.histogram(name[par], bins=bins, range = (xlims))\n",
    "\n",
    "        \n",
    "        source = ColumnDataSource(dict(x=(b[i][1:]+b[i][:-1])/2, y=n[i]))\n",
    "        glyph1 = Step(x='x', y='y', line_color=colors[i], mode='center')\n",
    "        fig1.add_glyph(source, glyph1)\n",
    "\n",
    "        base = (b[i][1:]+b[i][:-1])/2\n",
    "        lower = n[i]-np.sqrt(n[i])/2\n",
    "        upper = n[i]+np.sqrt(n[i])/2\n",
    "        source_error = ColumnDataSource(data=dict(base=base, lower=lower, upper=upper))\n",
    "        w=Whisker(source=source_error, base='base', upper='upper', lower='lower', line_color='gray')\n",
    "        w.upper_head.line_color = 'gray'\n",
    "        w.lower_head.line_color = 'gray'\n",
    "        fig1.add_layout(w)\n",
    "    \n",
    "    fig1.xaxis.axis_label = parameter\n",
    "    fig1.yaxis.axis_label = 'counts'\n",
    "    fig1.title.text_font_size = '8pt'\n",
    "    fig1.title.text_font_style = 'normal'\n",
    "    \n",
    "    N = n[0]-n[1]  #histogram bins of only the gamma rays (without the bkg of cosmic rays)\n",
    "    err_N = np.sqrt(n[0]+n[1])  #error of N, obtained by error propagation\n",
    "    width = b[1][1] - b[1][0]\n",
    "    \n",
    "    fig2 = figure(title = 'Distribution of {} of the gamma rays'.format(par),\n",
    "                  plot_width=450, plot_height=300, x_range=xlims)\n",
    "    fig2.quad(top=N, bottom=0, left=b[1][:-1], right=b[1][1:], fill_color = 'blue', fill_alpha = 0.7)\n",
    "    base = (b[1][1:]+b[1][:-1])/2\n",
    "    lower = N - err_N\n",
    "    upper = N + err_N\n",
    "    source_error = ColumnDataSource(data=dict(base=base, lower=lower, upper=upper))\n",
    "    w=Whisker(source=source_error, base='base', upper='upper', lower='lower', line_color='gray')\n",
    "    w.upper_head.line_color = 'gray'\n",
    "    w.lower_head.line_color = 'gray'\n",
    "    fig2.add_layout(w)\n",
    "\n",
    "    fig2.xaxis.axis_label = parameter\n",
    "    fig2.yaxis.axis_label = 'counts'\n",
    "    fig2.title.text_font_size = '8pt'\n",
    "    fig2.title.text_font_style = 'normal'\n",
    "    fig2.add_layout(Title(text='(with the background of cosmic rays substracted)', text_font_style='normal', text_font_size='8pt'), 'above')\n",
    "    \n",
    "    \n",
    "    if show_bkg == True:\n",
    "        show(row(fig1, fig2))\n",
    "    else:\n",
    "        show(fig2)"
   ]
  },
  {
   "cell_type": "code",
   "execution_count": null,
   "id": "fe57c706",
   "metadata": {},
   "outputs": [],
   "source": [
    "# To compare with the MC simulated gamma rays, we represent on the y axis the detected RATE of gamma rays coming from the \n",
    "#Crab (number of gamma rays events in each bin/ effective time of observation): \n",
    "\n",
    "def dist_rate(df, parameter, bins, t_eff, xlims = None, show_bkg = True, return_counts=True):  #function that returns the distribution of a given parameter representing in the y axis the detected rate of gamma rays coming from the Crab  \n",
    "    idx = list(df.columns).index(parameter)\n",
    "    par = df.columns[idx] \n",
    "    \n",
    "    n = [0]*2\n",
    "    b = [0]*2\n",
    "    r = [0]*2\n",
    "    err_r = [0]*2\n",
    "    colors = ['blue', 'orange', 'green', 'magenta']\n",
    "    fig1 = figure(title = 'Distribution of {} of the gamma rays + background of cosmic rays'.format(par),\n",
    "                  plot_width=450, plot_height=300, x_range=xlims)\n",
    "    \n",
    "    names = dfs(df)\n",
    "    for i in range(2):\n",
    "        name = names[i]\n",
    "        if i == 0:\n",
    "            xlims = xlims\n",
    "        else:\n",
    "            xlims = (b[0][0], b[0][-1])\n",
    "            \n",
    "        n[i], b[i] = np.histogram(name[par], bins=bins, range = (xlims))\n",
    "        r[i] = n[i]/t_eff  #rate detected of events\n",
    "        err_r[i] = 1/t_eff*np.sqrt(n[i])\n",
    "        \n",
    "        source = ColumnDataSource(dict(x=(b[i][1:]+b[i][:-1])/2, y=r[i]))\n",
    "        #glyph1 = Step(x='x', y='y', line_color=colors[i], mode='center')\n",
    "        #fig1.add_glyph(source, glyph1)\n",
    "        fig1.circle((b[i][1:]+b[i][:-1])/2, r[i], size = 3.5, color = colors[i], alpha = 0.5)\n",
    "        \n",
    "        base = (b[i][1:]+b[i][:-1])/2\n",
    "        lower = r[i]-err_r[i]/2\n",
    "        upper = r[i]+err_r[i]/2\n",
    "        source_error = ColumnDataSource(data=dict(base=base, lower=lower, upper=upper))\n",
    "        w=Whisker(source=source_error, base='base', upper='upper', lower='lower', line_color='gray')\n",
    "        w.upper_head.line_color = 'gray'\n",
    "        w.lower_head.line_color = 'gray'\n",
    "        fig1.add_layout(w)\n",
    "    \n",
    "    fig1.xaxis.axis_label = parameter\n",
    "    fig1.yaxis.axis_label = 'rate of detected events (s⁻¹)'\n",
    "    fig1.title.text_font_size = '8pt'\n",
    "    fig1.title.text_font_style = 'normal'\n",
    "    \n",
    "    R = r[0]-r[1]  #histogram bins of only the gamma rays (without the bkg of cosmic rays)\n",
    "    err_R = np.sqrt(1/t_eff*(r[0]+r[1]))  #error of N, obtained by error propagation\n",
    "    width = b[1][1] - b[1][0]\n",
    "    \n",
    "    fig2 = figure(title = 'Distribution of {} of the gamma rays and the background'.format(par),\n",
    "                  plot_width=450, plot_height=300, x_range=xlims)\n",
    "    fig2.quad(top=R, bottom=0, left=b[1][:-1], right=b[1][1:], fill_color = 'blue', fill_alpha =0.4, legend_label='gammas')\n",
    "    base = (b[1][1:]+b[1][:-1])/2\n",
    "    lower = R - err_R\n",
    "    upper = R + err_R\n",
    "    source_error = ColumnDataSource(data=dict(base=base, lower=lower, upper=upper))\n",
    "    w=Whisker(source=source_error, base='base', upper='upper', lower='lower', line_color='gray')\n",
    "    w.upper_head.line_color = 'gray'\n",
    "    w.lower_head.line_color = 'gray'\n",
    "    fig2.add_layout(w)\n",
    "\n",
    "    fig2.xaxis.axis_label = parameter\n",
    "    fig2.yaxis.axis_label = 'rate of detected gamma ray events (s⁻¹)'\n",
    "    fig2.title.text_font_size = '8pt'\n",
    "    fig2.title.text_font_style = 'normal'\n",
    "    #fig2.legend.location = \"top_left\"\n",
    "    \n",
    "    B = r[1]  #histogram bins of only the gamma rays (without the bkg of cosmic rays)\n",
    "    err_B = np.sqrt(1/t_eff*(r[1]))  #error of N, obtained by error propagation\n",
    "    width = b[1][1] - b[1][0]\n",
    "    \n",
    "    if show_bkg==True:\n",
    "        fig2.quad(top=B, bottom=0, left=b[1][:-1], right=b[1][1:], fill_color = 'red', fill_alpha = 0.4, legend_label='background')\n",
    "        base = (b[1][1:]+b[1][:-1])/2\n",
    "        lower = B - err_B\n",
    "        upper = B + err_B\n",
    "        source_error = ColumnDataSource(data=dict(base=base, lower=lower, upper=upper))\n",
    "        w=Whisker(source=source_error, base='base', upper='upper', lower='lower', line_color='gray')\n",
    "        w.upper_head.line_color = 'gray'\n",
    "        w.lower_head.line_color = 'gray'\n",
    "        fig2.add_layout(w)\n",
    "        fig2.legend.label_text_font_size = '6pt'\n",
    "\n",
    "    \n",
    "    if show_bkg == True:\n",
    "        show(row(fig1, fig2))\n",
    "    else:\n",
    "        show(fig2)\n",
    "        \n",
    "    if return_counts == True:\n",
    "        return R, err_R  #returns the detected rate of gamma rays [counts/s]"
   ]
  },
  {
   "cell_type": "code",
   "execution_count": null,
   "id": "shaped-tenant",
   "metadata": {},
   "outputs": [],
   "source": [
    "def hist_intensity(df, parameter, bins):  #function that returns the plot of a given parameter in bins of intensity\n",
    "    idx = list(df.columns).index(parameter)\n",
    "    par = df.columns[idx] \n",
    "    \n",
    "    counts = []\n",
    "    names = dfs(df)\n",
    "    for i in range(4):\n",
    "        name = names[i]\n",
    "        (counts1, bins_x1, bins_y1) = np.histogram2d(name[par], name['intensity'], bins = bins)\n",
    "        counts.append(counts1)\n",
    "        \n",
    "    counts_gamma = counts[0] - (1/3)*(counts[1] + counts[2] + counts[3])\n",
    "    \n",
    "    fig = figure(title='Intensity of the gamma ray events as a function of the {}'.format(parameter), plot_width=450, plot_height=400, x_range=(min(bins_x1), max(bins_x1)), y_range=(min(bins_y1), max(bins_y1)))\n",
    "    fig.image(image=[np.transpose(counts_gamma)], x=bins_x1[0], y=bins_y1[0], dw=bins_x1[-1] - bins_x1[0], \n",
    "              dh=bins_y1[-1] - bins_y1[0])\n",
    "    fig.xaxis.axis_label = parameter\n",
    "    fig.yaxis.axis_label = 'intensity'\n",
    "    fig.title.text_font_size = '8pt'\n",
    "    fig.title.text_font_style = 'normal'\n",
    "    \n",
    "    color_mapper = LinearColorMapper(palette=Greys9, low=counts_gamma.min(), high=counts_gamma.max())\n",
    "    color_bar = ColorBar(color_mapper=color_mapper, ticker= BasicTicker(), location=(0,0))\n",
    "    fig.add_layout(color_bar, 'right')\n",
    "    \n",
    "    show(fig)"
   ]
  },
  {
   "cell_type": "markdown",
   "id": "linear-export",
   "metadata": {},
   "source": [
    "# We apply these functions to the data separated in intervals of intensity: <i1, i1-i2, i2-i3 and  >i3, and with a cut in gammaness > 0.2."
   ]
  },
  {
   "cell_type": "code",
   "execution_count": null,
   "id": "80d3a9ed",
   "metadata": {},
   "outputs": [],
   "source": [
    "i1 = 300\n",
    "i2 = 1000\n",
    "i3 = 2000"
   ]
  },
  {
   "cell_type": "code",
   "execution_count": null,
   "id": "83efd3b8",
   "metadata": {},
   "outputs": [],
   "source": [
    "tot_data = tot_data.assign(theta2 = off_zones(tot_data, source_position)[0])  #add a column with the values of theta2 to the dataframe"
   ]
  },
  {
   "cell_type": "code",
   "execution_count": null,
   "id": "6708142b",
   "metadata": {},
   "outputs": [],
   "source": [
    "data1 = tot_data[(tot_data['intensity']<i1)]\n",
    "data2 = tot_data[(tot_data['intensity']>i1) & (tot_data['intensity']<i2)]\n",
    "data3 = tot_data[(tot_data['intensity']>i2) & (tot_data['intensity']<i3)]\n",
    "data4 = tot_data[(tot_data['intensity']>i3)]"
   ]
  },
  {
   "cell_type": "code",
   "execution_count": null,
   "id": "ahead-summary",
   "metadata": {},
   "outputs": [],
   "source": [
    "data1 = tot_data[(tot_data['gammaness']>0.3) & (tot_data['intensity']<i1)]\n",
    "data2 = tot_data[(tot_data['gammaness']>0.3) &  (tot_data['intensity']>i1) & (tot_data['intensity']<i2)]\n",
    "data3 = tot_data[(tot_data['gammaness']>0.3) &  (tot_data['intensity']>i2) & (tot_data['intensity']<i3)]\n",
    "data4 = tot_data[(tot_data['gammaness']>0.3) &  (tot_data['intensity']>i3)]"
   ]
  },
  {
   "cell_type": "code",
   "execution_count": null,
   "id": "f1a9a816",
   "metadata": {},
   "outputs": [],
   "source": [
    "gamma_excess(data1, source_position, 80, xlims=(0,1))"
   ]
  },
  {
   "cell_type": "code",
   "execution_count": null,
   "id": "f78fa8d1",
   "metadata": {},
   "outputs": [],
   "source": [
    "gamma_excess(data2, source_position, 100, xlims=(0,1))"
   ]
  },
  {
   "cell_type": "code",
   "execution_count": null,
   "id": "4768fe7c",
   "metadata": {},
   "outputs": [],
   "source": [
    "gamma_excess(data3, source_position, 130, xlims = (0,1))"
   ]
  },
  {
   "cell_type": "code",
   "execution_count": null,
   "id": "880be1c5",
   "metadata": {},
   "outputs": [],
   "source": [
    "gamma_excess(data4, source_position, 150, xlims = (0,1))"
   ]
  },
  {
   "cell_type": "code",
   "execution_count": null,
   "id": "486a42b6",
   "metadata": {},
   "outputs": [],
   "source": [
    "# distribution of theta2:\n",
    "def dist_theta2(df, bins, t_eff, xlims = None): \n",
    "    fig1 = figure(title = 'Distribution of theta2 of the gamma rays + background of cosmic rays',\n",
    "                  plot_width=450, plot_height=300, x_range=xlims)\n",
    "\n",
    "    n, b = np.histogram(df['theta2'], bins=bins, range = (xlims))\n",
    "    r = n/t_eff  #rate detected of events\n",
    "    err_r = 1/t_eff*np.sqrt(n)\n",
    "\n",
    "    source = ColumnDataSource(dict(x=(b[1:]+b[:-1])/2, y=r))\n",
    "    glyph1 = Step(x='x', y='y', line_color = 'blue', mode='center')\n",
    "    fig1.add_glyph(source, glyph1)\n",
    "    #fig1.circle((b[i][1:]+b[i][:-1])/2, r[i], size = 3.5, color = colors[i], alpha = 0.5)\n",
    "\n",
    "    base = (b[1:]+b[:-1])/2\n",
    "    lower = r-err_r/2\n",
    "    upper = r+err_r/2\n",
    "    source_error = ColumnDataSource(data=dict(base=base, lower=lower, upper=upper))\n",
    "    w=Whisker(source=source_error, base='base', upper='upper', lower='lower', line_color='gray')\n",
    "    w.upper_head.line_color = 'gray'\n",
    "    w.lower_head.line_color = 'gray'\n",
    "    fig1.add_layout(w)\n",
    "\n",
    "    fig1.xaxis.axis_label = 'theta2'\n",
    "    fig1.yaxis.axis_label = 'rate of detected events (s⁻¹)'\n",
    "    fig1.title.text_font_size = '8pt'\n",
    "    fig1.title.text_font_style = 'normal'\n",
    "    \n",
    "    show(fig1)"
   ]
  },
  {
   "cell_type": "code",
   "execution_count": null,
   "id": "3045b316",
   "metadata": {},
   "outputs": [],
   "source": [
    "dist_theta2(tot_data, 100, effective_time)"
   ]
  },
  {
   "cell_type": "code",
   "execution_count": null,
   "id": "122ddb50",
   "metadata": {},
   "outputs": [],
   "source": [
    "n, err = dist_rate(tot_data, 'width', 120, effective_time, xlims = (0,0.25))"
   ]
  },
  {
   "cell_type": "code",
   "execution_count": null,
   "id": "5294b217",
   "metadata": {},
   "outputs": [],
   "source": [
    "n, err = dist_rate(tot_data, 'length', 80, effective_time, xlims = (0,0.5))"
   ]
  },
  {
   "cell_type": "code",
   "execution_count": null,
   "id": "471d4a14",
   "metadata": {},
   "outputs": [],
   "source": [
    "n, err = dist_rate(tot_data, 'log_intensity', 80, effective_time)"
   ]
  },
  {
   "cell_type": "code",
   "execution_count": null,
   "id": "ae09f703",
   "metadata": {},
   "outputs": [],
   "source": [
    "n, err = dist_rate(tot_data, 'gammaness', 80, effective_time)"
   ]
  },
  {
   "cell_type": "markdown",
   "id": "07dcb6a8",
   "metadata": {},
   "source": [
    "### Intensity < i1"
   ]
  },
  {
   "cell_type": "code",
   "execution_count": null,
   "id": "d29fad39",
   "metadata": {},
   "outputs": [],
   "source": [
    "n, err = dist_rate(data1, 'width', 50, effective_time, xlims=(0,0.15))"
   ]
  },
  {
   "cell_type": "code",
   "execution_count": null,
   "id": "0c0b7505",
   "metadata": {},
   "outputs": [],
   "source": [
    "n, err= dist_rate(data1, 'length', 50, effective_time, xlims=(0,0.3))"
   ]
  },
  {
   "cell_type": "code",
   "execution_count": null,
   "id": "1e0c6d52",
   "metadata": {},
   "outputs": [],
   "source": [
    "n, err = dist_rate(data1, 'log_intensity', 40, effective_time)"
   ]
  },
  {
   "cell_type": "code",
   "execution_count": null,
   "id": "5bd7e584",
   "metadata": {},
   "outputs": [],
   "source": [
    "n, err = dist_rate(data1, 'gammaness', 60, effective_time)"
   ]
  },
  {
   "cell_type": "markdown",
   "id": "b884481e",
   "metadata": {},
   "source": [
    "### Intensity between i1 and i2"
   ]
  },
  {
   "cell_type": "code",
   "execution_count": null,
   "id": "bff3a0c1",
   "metadata": {
    "scrolled": true
   },
   "outputs": [],
   "source": [
    "n, err = dist_rate(data2, 'width', 60, effective_time, xlims=(0,0.15))"
   ]
  },
  {
   "cell_type": "code",
   "execution_count": null,
   "id": "c9db7fd5",
   "metadata": {},
   "outputs": [],
   "source": [
    "n, err = dist_rate(data2, 'length', 80, effective_time, xlims=(0,0.3))"
   ]
  },
  {
   "cell_type": "code",
   "execution_count": null,
   "id": "7ad764b0",
   "metadata": {
    "scrolled": true
   },
   "outputs": [],
   "source": [
    "n, err = dist_rate(data2, 'log_intensity', 80, effective_time)"
   ]
  },
  {
   "cell_type": "code",
   "execution_count": null,
   "id": "b76e5ded",
   "metadata": {},
   "outputs": [],
   "source": [
    "n, err = dist_rate(data2, 'gammaness', 60, effective_time)"
   ]
  },
  {
   "cell_type": "markdown",
   "id": "ffac8ac8",
   "metadata": {},
   "source": [
    "### Intensity  between i2 and i3"
   ]
  },
  {
   "cell_type": "code",
   "execution_count": null,
   "id": "e049692f",
   "metadata": {
    "scrolled": true
   },
   "outputs": [],
   "source": [
    "n, err = dist_rate(data3, 'width', 100, effective_time, xlims=(0,0.3))"
   ]
  },
  {
   "cell_type": "code",
   "execution_count": null,
   "id": "radical-mounting",
   "metadata": {},
   "outputs": [],
   "source": [
    "n, err = dist_rate(data3, 'length', 60, effective_time, xlims=(0,0.5))"
   ]
  },
  {
   "cell_type": "code",
   "execution_count": null,
   "id": "suitable-cover",
   "metadata": {},
   "outputs": [],
   "source": [
    "n, err = dist_rate(data3, 'log_intensity', 60, effective_time)"
   ]
  },
  {
   "cell_type": "code",
   "execution_count": null,
   "id": "059cf00a",
   "metadata": {},
   "outputs": [],
   "source": [
    "n, err = dist_rate(data3, 'gammaness', 150, effective_time)"
   ]
  },
  {
   "cell_type": "markdown",
   "id": "de4f8290",
   "metadata": {},
   "source": [
    "### Intensity > i3"
   ]
  },
  {
   "cell_type": "code",
   "execution_count": null,
   "id": "b734ec07",
   "metadata": {},
   "outputs": [],
   "source": [
    "n, err = dist_rate(data4, 'width', 80, effective_time, xlims=(0,0.3))"
   ]
  },
  {
   "cell_type": "code",
   "execution_count": null,
   "id": "11f3424e",
   "metadata": {},
   "outputs": [],
   "source": [
    "n, err = dist_rate(data4, 'length', 80, effective_time, xlims=(0,1))"
   ]
  },
  {
   "cell_type": "code",
   "execution_count": null,
   "id": "269419c6",
   "metadata": {
    "scrolled": true
   },
   "outputs": [],
   "source": [
    "n, err = dist_rate(data4, 'log_intensity', 70, effective_time)"
   ]
  },
  {
   "cell_type": "code",
   "execution_count": null,
   "id": "e69a8b84",
   "metadata": {},
   "outputs": [],
   "source": [
    "n, err = dist_rate(data4, 'gammaness', 120, effective_time)"
   ]
  },
  {
   "cell_type": "markdown",
   "id": "e1749cce",
   "metadata": {},
   "source": [
    "# Monte Carlo simulations of gamma rays observed by LST"
   ]
  },
  {
   "cell_type": "code",
   "execution_count": null,
   "id": "6860fe5f",
   "metadata": {},
   "outputs": [],
   "source": [
    "filename = '/data/cta/users-ifae/moralejo/CTA/LST/MC/DL2/20200629_prod5_trans_80/gamma/zenith_20deg/south_pointing/20210416_v0.7.3_prod5_trans_80_local_taicut_8_4/off0.4deg/dl2_gamma_20deg_180deg_off0.4deg_20210416_v0.7.3_prod5_trans_80_local_taicut_8_4_testing.h5'\n",
    "MC_data = pd.read_hdf(filename, 'dl2/event/telescope/parameters/LST_LSTCam')\n",
    "\n",
    "f = h5py.File(filename,'r')\n",
    "MC_config = f['simulation/run_config']"
   ]
  },
  {
   "cell_type": "code",
   "execution_count": null,
   "id": "80894563",
   "metadata": {},
   "outputs": [],
   "source": [
    "#energy distribution of the simulated gamma rays:\n",
    "fig = figure(title = 'Distribution of the energy of the simulated gamma rays', plot_width=450, plot_height=300,\n",
    "             y_axis_type='log')\n",
    "\n",
    "n, b = np.histogram(np.log10(MC_data['mc_energy']), bins=100, range = (min(np.log10(MC_data['mc_energy'])),\n",
    "                                                  max(np.log10(MC_data['mc_energy']))))\n",
    "fig.quad(top=n, bottom=0.1, left=b[:-1], right=b[1:])\n",
    "\n",
    "base = (b[1:]+b[:-1])/2\n",
    "lower = n-np.sqrt(n)/2\n",
    "upper = n+np.sqrt(n)/2\n",
    "source_error = ColumnDataSource(data=dict(base=base, lower=lower, upper=upper))\n",
    "w=Whisker(source=source_error, base='base', upper='upper', lower='lower', line_color='gray')\n",
    "w.upper_head.line_color = 'gray'\n",
    "w.lower_head.line_color = 'gray'\n",
    "fig.add_layout(w)\n",
    "\n",
    "fig.xaxis.axis_label = 'log(mc_energy)'\n",
    "fig.yaxis.axis_label = 'counts'\n",
    "fig.title.text_font_size = '8pt'\n",
    "fig.title.text_font_style = 'normal'    \n",
    "\n",
    "show(fig)"
   ]
  },
  {
   "cell_type": "code",
   "execution_count": null,
   "id": "e5831e18",
   "metadata": {},
   "outputs": [],
   "source": [
    "def calculate_event_weights(energy, target_spectrum, simulated_spectrum):\n",
    "    \n",
    "    return (target_spectrum(energy)/simulated_spectrum(energy))"
   ]
  },
  {
   "cell_type": "markdown",
   "id": "2c845a29",
   "metadata": {},
   "source": [
    "To obtain the simulated spectrum: \n",
    "$$N_{tot}=\\int_{E_{min}}^{E_{max}} k \\cdot E^{-g} dE$$\n",
    "Since $g=2$, integrating: \n",
    "$$N_{tot}= \\int_{E_{min}}^{E_{max}} k \\cdot E^{-2} dE = k \\left(\\frac{1}{E_{min}}-\\frac{1}{E_{max}}\\right)$$ \n",
    "We isolate $k$ and substitute to obtain the simulated spectrum: \n",
    "$$\\frac{dN}{dE dA}= \\frac{k \\cdot E^{-g}}{A}$$"
   ]
  },
  {
   "cell_type": "code",
   "execution_count": null,
   "id": "bbff0bc7",
   "metadata": {},
   "outputs": [],
   "source": [
    "def simulated_spectrum(energy): \n",
    "    g = -MC_config['spectral_index'][0]  #spectral index\n",
    "    num_showers = MC_config['num_showers']\n",
    "    num_shower_reuse = MC_config['shower_reuse']\n",
    "    Ntot = np.sum(num_showers*num_shower_reuse)  #total number of simulated events\n",
    "    radius = MC_config['max_scatter_range'][0]*100  #radius of the circle in which the MC is generated (in cm)\n",
    "    A = np.pi*radius**2  #area\n",
    "    Emin = MC_config['energy_range_min'][0]\n",
    "    Emax = MC_config['energy_range_max'][0]\n",
    "    k = Ntot/(1/Emin-1/Emax)\n",
    "    \n",
    "    return k*energy**(-g)/A  #simulated spectrum"
   ]
  },
  {
   "cell_type": "code",
   "execution_count": null,
   "id": "e2b0c9e1",
   "metadata": {},
   "outputs": [],
   "source": [
    "def target_spectrum(energy):\n",
    "    \n",
    "    return CRAB_MAGIC_JHEAP2015(energy*u.TeV).value"
   ]
  },
  {
   "cell_type": "code",
   "execution_count": null,
   "id": "41ef212b",
   "metadata": {},
   "outputs": [],
   "source": [
    "E = np.array(MC_data['mc_energy'])\n",
    "weights = calculate_event_weights(E, target_spectrum, simulated_spectrum)\n",
    "\n",
    "fig1 = figure(plot_width=400, plot_height=300, y_axis_type='log', title = 'Target spectrum (Crab nebula)', \n",
    "             x_axis_label='energy (TeV)', y_axis_label='dF/dE (1/TeV/s/cm²)')\n",
    "fig1.circle(E, target_spectrum(E), size = 0.05)\n",
    "\n",
    "fig2 = figure(plot_width=400, plot_height=300, y_axis_type='log', title = 'Simulated spectrum',\n",
    "             x_axis_label='energy (TeV)', y_axis_label='dN/(dE dA) (1/TeV/cm²)')\n",
    "fig2.circle(E, simulated_spectrum(E), size = 0.05)\n",
    "\n",
    "show(row(fig1, fig2))"
   ]
  },
  {
   "cell_type": "markdown",
   "id": "2ca92563",
   "metadata": {},
   "source": [
    "#### Calculation of errors in a weighted histogram: \n",
    "$n_1 = \\sum_i w_i (x)$, where $x=1$\n",
    "\n",
    "$n_2 = \\sum_i w_i (x)$, where $x=2$\n",
    "\n",
    "...\n",
    "\n",
    "\n",
    "Now to calculate the errors of the bins we use error propagation: \n",
    "$$U = \\sum_{k,l} \\frac{\\partial n_1}{\\partial w_i} \\frac{\\partial n_1}{\\partial w_j} V_{kl}$$\n",
    "\n",
    "Variance of $w_i$ is: \n",
    "$$V_{ii} = w_i^2$$\n",
    "because $w_i=w_i*n$, where $n=1$ event, and $\\sigma_i = w_i \\sqrt{n}$. \n",
    "\n",
    "Thus, the variance of the counts in the first bin will be given by: \n",
    "$$U = \\sum_i w_i^2$$\n",
    "where $w_i$ are the weights of the events belonging to that bin. The same for all the other bins..."
   ]
  },
  {
   "cell_type": "code",
   "execution_count": null,
   "id": "6602c54e",
   "metadata": {},
   "outputs": [],
   "source": [
    "def distribution_gammas(df, par, bins, xlims=None, return_counts = True):  #distribution of the given parameter of the simulated gamma rays\n",
    "    fig = figure(title = 'Distribution of {} of the simulated gamma rays'.format(par),\n",
    "                  plot_width=450, plot_height=300)\n",
    "    \n",
    "    E = np.array(df['mc_energy'])\n",
    "    weight = calculate_event_weights(E, target_spectrum, simulated_spectrum)\n",
    "\n",
    "    n, b = np.histogram(df[par], bins=bins, weights=weight, range=(xlims))  \n",
    "    fig.quad(top=n, bottom=0, left=b[:-1], right=b[1:])\n",
    "    \n",
    "    #error calculation: \n",
    "    df = df.assign(weights = weight)\n",
    "    var = [0]*(len(b)-1)  #variance\n",
    "    for i in range(len(b)-1): \n",
    "        data = df[(df[par]>= b[i]) & (df[par]<= b[i+1])]\n",
    "        var[i] = np.sum((data['weights'])**2)\n",
    "        \n",
    "\n",
    "    base = (b[1:]+b[:-1])/2\n",
    "    lower = n-np.sqrt(var)/2\n",
    "    upper = n+np.sqrt(var)/2\n",
    "    source_error = ColumnDataSource(data=dict(base=base, lower=lower, upper=upper))\n",
    "    w=Whisker(source=source_error, base='base', upper='upper', lower='lower', line_color='gray')\n",
    "    w.upper_head.line_color = 'gray'\n",
    "    w.lower_head.line_color = 'gray'\n",
    "    fig.add_layout(w)\n",
    "\n",
    "    fig.xaxis.axis_label = par\n",
    "    fig.yaxis.axis_label = 'counts/s'   #the weights have units of s⁻¹\n",
    "    fig.title.text_font_size = '8pt'\n",
    "    fig.title.text_font_style = 'normal'    \n",
    "\n",
    "    show(fig)\n",
    "    \n",
    "    if return_counts == True:\n",
    "        return n, var  #returns the number of counts detected per unit time [counts/s] and the variance"
   ]
  },
  {
   "cell_type": "code",
   "execution_count": null,
   "id": "8ca062fa",
   "metadata": {},
   "outputs": [],
   "source": [
    "n_width, v = distribution_gammas(MC_data, 'width', 100)"
   ]
  },
  {
   "cell_type": "code",
   "execution_count": null,
   "id": "17402c65",
   "metadata": {},
   "outputs": [],
   "source": [
    "n_length, v = distribution_gammas(MC_data, 'length', 100)"
   ]
  },
  {
   "cell_type": "code",
   "execution_count": null,
   "id": "d12f72f5",
   "metadata": {},
   "outputs": [],
   "source": [
    "n_intensity, v = distribution_gammas(MC_data, 'log_intensity', 100)"
   ]
  },
  {
   "cell_type": "markdown",
   "id": "a1e4bdb6",
   "metadata": {},
   "source": [
    "### Intensity > i3"
   ]
  },
  {
   "cell_type": "code",
   "execution_count": null,
   "id": "30d31ae0",
   "metadata": {},
   "outputs": [],
   "source": [
    "MC_data4 = MC_data[(MC_data['intensity']>i3)]"
   ]
  },
  {
   "cell_type": "code",
   "execution_count": null,
   "id": "2ff903f0",
   "metadata": {},
   "outputs": [],
   "source": [
    "n, v = distribution_gammas(MC_data4, 'width', 100)"
   ]
  },
  {
   "cell_type": "code",
   "execution_count": null,
   "id": "81be34eb",
   "metadata": {},
   "outputs": [],
   "source": [
    "n, v = distribution_gammas(MC_data4, 'length', 80)"
   ]
  },
  {
   "cell_type": "code",
   "execution_count": null,
   "id": "76f4d825",
   "metadata": {},
   "outputs": [],
   "source": [
    "n, v = distribution_gammas(MC_data4, 'log_intensity', 100)"
   ]
  },
  {
   "cell_type": "code",
   "execution_count": null,
   "id": "93651d1a",
   "metadata": {},
   "outputs": [],
   "source": [
    "n, v = distribution_gammas(MC_data4, 'gammaness', 100)"
   ]
  },
  {
   "cell_type": "markdown",
   "id": "e4675be5",
   "metadata": {},
   "source": [
    "# Comparison of real data and simulated gamma rays\n",
    "First, we will make the comparison for the data with intensity > i3 (\"data4\" and \"MC_data4\" dataframes)."
   ]
  },
  {
   "cell_type": "code",
   "execution_count": null,
   "id": "76e042d0",
   "metadata": {},
   "outputs": [],
   "source": [
    "# Comparison: \n",
    "def comparison(df, df_MC, par, n_bins, xlims=None):\n",
    "    _, b = np.histogram(df[par], bins=n_bins, range=xlims)\n",
    "    r = dist_rate(df, par, n_bins, effective_time, xlims=(b[0],b[-1]), show_bkg=False)  #real data\n",
    "    n = distribution_gammas(df_MC, par, n_bins, xlims=(b[0],b[-1]))   #simulated events\n",
    "    \n",
    "    #residuals = n-r\n",
    "    \n",
    "    #fig = figure(title = 'Residuals', plot_width=450, plot_height=300)\n",
    "    #fig.circle((b[1:]+b[:-1])/2, residuals, size=3)\n",
    "    \n",
    "    #fig.xaxis.axis_label = par\n",
    "    #fig.yaxis.axis_label = 'residuals' \n",
    "    #fig.title.text_font_size = '8pt'\n",
    "    #fig.title.text_font_style = 'normal'\n",
    "    \n",
    "    show(fig)"
   ]
  },
  {
   "cell_type": "code",
   "execution_count": null,
   "id": "91e0004d",
   "metadata": {},
   "outputs": [],
   "source": [
    "# Comparison: \n",
    "def comparison(df, df_MC, par, n_bins, xlims=None):\n",
    "    _, b = np.histogram(df[par], bins=n_bins, range=xlims)\n",
    "    R, err_R = dist_rate(df, par, n_bins, effective_time, xlims=(b[0],b[-1]), show_bkg=False)  #real data\n",
    "    n, var = distribution_gammas(df_MC, par, n_bins, xlims=(b[0],b[-1]))   #simulated events\n",
    "\n",
    "    \n",
    "    fig1 = figure(title = 'Comparison',\n",
    "                  plot_width=550, plot_height=400, x_range=xlims)\n",
    "    fig1.quad(top=R, bottom=0, left=b[:-1], right=b[1:], fill_color='blue', fill_alpha=0.35)\n",
    "    base = (b[1:]+b[:-1])/2\n",
    "    lower = R - err_R\n",
    "    upper = R + err_R\n",
    "    source_error = ColumnDataSource(data=dict(base=base, lower=lower, upper=upper))\n",
    "    w=Whisker(source=source_error, base='base', upper='upper', lower='lower', line_color='gray')\n",
    "    w.upper_head.line_color = 'gray'\n",
    "    w.lower_head.line_color = 'gray'\n",
    "    fig1.add_layout(w)\n",
    "\n",
    "    #fig1.xaxis.axis_label = parameter\n",
    "    fig1.yaxis.axis_label = 'rate of detected gamma ray events (s⁻¹)'\n",
    "    fig1.title.text_font_size = '8pt'\n",
    "    fig1.title.text_font_style = 'normal'\n",
    "    fig1.add_layout(Title(text='(with the background of cosmic rays substracted)', text_font_style='normal', text_font_size='8pt'), 'above')\n",
    "    \n",
    "    \n",
    "    #fig1 = figure(title = 'Distribution of {} of the simulated gamma rays'.format(par),\n",
    "                  #plot_width=450, plot_height=300) \n",
    "    fig1.quad(top=n, bottom=0, left=b[:-1], right=b[1:], fill_color='red', fill_alpha=0.35)\n",
    "    base = (b[1:]+b[:-1])/2\n",
    "    lower = n-np.sqrt(var)/2\n",
    "    upper = n+np.sqrt(var)/2\n",
    "    source_error = ColumnDataSource(data=dict(base=base, lower=lower, upper=upper))\n",
    "    w=Whisker(source=source_error, base='base', upper='upper', lower='lower', line_color='gray')\n",
    "    w.upper_head.line_color = 'gray'\n",
    "    w.lower_head.line_color = 'gray'\n",
    "    fig1.add_layout(w)\n",
    "\n",
    "    fig1.xaxis.axis_label = par\n",
    "    fig1.yaxis.axis_label = 'counts/s'   #the weights have units of s⁻¹\n",
    "    fig1.title.text_font_size = '8pt'\n",
    "    fig1.title.text_font_style = 'normal'    \n",
    "\n",
    "    show(fig1)"
   ]
  },
  {
   "cell_type": "code",
   "execution_count": null,
   "id": "af7a6749",
   "metadata": {},
   "outputs": [],
   "source": [
    "comparison(data4, MC_data4, 'width', 100, xlims=(0,0.2))"
   ]
  },
  {
   "cell_type": "code",
   "execution_count": null,
   "id": "c5bdc15f",
   "metadata": {},
   "outputs": [],
   "source": [
    "comparison(data4, MC_data4, 'length', 100, xlims = (0,0.7))"
   ]
  },
  {
   "cell_type": "code",
   "execution_count": null,
   "id": "5f219c72",
   "metadata": {},
   "outputs": [],
   "source": [
    "comparison(data4, MC_data4, 'log_intensity', 60)"
   ]
  },
  {
   "cell_type": "code",
   "execution_count": null,
   "id": "5f428af4",
   "metadata": {},
   "outputs": [],
   "source": [
    "comparison(data4, MC_data4, 'gammaness', 100)"
   ]
  },
  {
   "cell_type": "code",
   "execution_count": null,
   "id": "c763dc6f",
   "metadata": {},
   "outputs": [],
   "source": []
  }
 ],
 "metadata": {
  "kernelspec": {
   "display_name": "Python 3",
   "language": "python",
   "name": "python3"
  },
  "language_info": {
   "codemirror_mode": {
    "name": "ipython",
    "version": 3
   },
   "file_extension": ".py",
   "mimetype": "text/x-python",
   "name": "python",
   "nbconvert_exporter": "python",
   "pygments_lexer": "ipython3",
   "version": "3.7.10"
  }
 },
 "nbformat": 4,
 "nbformat_minor": 5
}
