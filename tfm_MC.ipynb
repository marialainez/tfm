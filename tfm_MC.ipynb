{
 "cells": [
  {
   "cell_type": "markdown",
   "id": "11b46a7b",
   "metadata": {},
   "source": [
    "# Monte Carlo simulations of gamma rays observed by LST"
   ]
  },
  {
   "cell_type": "code",
   "execution_count": 1,
   "id": "56750703",
   "metadata": {},
   "outputs": [],
   "source": [
    "import numpy as np\n",
    "import matplotlib.pyplot as plt\n",
    "import pandas as pd\n",
    "import glob\n",
    "import h5py\n",
    "from datetime import datetime\n",
    "from astropy import units as u\n",
    "from astropy.coordinates import SkyCoord, EarthLocation, builtin_frames, Angle\n",
    "from astropy.coordinates.erfa_astrom import ErfaAstromInterpolator, erfa_astrom\n",
    "from astropy.time import Time\n",
    "from bokeh.io import output_notebook, output_file\n",
    "from bokeh.plotting import figure, show\n",
    "from bokeh.models import ColumnDataSource, Whisker, Step, Title, LinearColorMapper, BasicTicker, ColorBar\n",
    "from bokeh.layouts import row\n",
    "from bokeh.palettes import Inferno256, Greys9\n",
    "import pyirf\n",
    "from pyirf.spectral import CRAB_MAGIC_JHEAP2015"
   ]
  },
  {
   "cell_type": "code",
   "execution_count": 2,
   "id": "b6302a7e",
   "metadata": {},
   "outputs": [
    {
     "data": {
      "text/html": [
       "\n",
       "    <div class=\"bk-root\">\n",
       "        <a href=\"https://bokeh.org\" target=\"_blank\" class=\"bk-logo bk-logo-small bk-logo-notebook\"></a>\n",
       "        <span id=\"1001\">Loading BokehJS ...</span>\n",
       "    </div>"
      ]
     },
     "metadata": {},
     "output_type": "display_data"
    },
    {
     "data": {
      "application/javascript": [
       "\n",
       "(function(root) {\n",
       "  function now() {\n",
       "    return new Date();\n",
       "  }\n",
       "\n",
       "  var force = true;\n",
       "\n",
       "  if (typeof root._bokeh_onload_callbacks === \"undefined\" || force === true) {\n",
       "    root._bokeh_onload_callbacks = [];\n",
       "    root._bokeh_is_loading = undefined;\n",
       "  }\n",
       "\n",
       "  var JS_MIME_TYPE = 'application/javascript';\n",
       "  var HTML_MIME_TYPE = 'text/html';\n",
       "  var EXEC_MIME_TYPE = 'application/vnd.bokehjs_exec.v0+json';\n",
       "  var CLASS_NAME = 'output_bokeh rendered_html';\n",
       "\n",
       "  /**\n",
       "   * Render data to the DOM node\n",
       "   */\n",
       "  function render(props, node) {\n",
       "    var script = document.createElement(\"script\");\n",
       "    node.appendChild(script);\n",
       "  }\n",
       "\n",
       "  /**\n",
       "   * Handle when an output is cleared or removed\n",
       "   */\n",
       "  function handleClearOutput(event, handle) {\n",
       "    var cell = handle.cell;\n",
       "\n",
       "    var id = cell.output_area._bokeh_element_id;\n",
       "    var server_id = cell.output_area._bokeh_server_id;\n",
       "    // Clean up Bokeh references\n",
       "    if (id != null && id in Bokeh.index) {\n",
       "      Bokeh.index[id].model.document.clear();\n",
       "      delete Bokeh.index[id];\n",
       "    }\n",
       "\n",
       "    if (server_id !== undefined) {\n",
       "      // Clean up Bokeh references\n",
       "      var cmd = \"from bokeh.io.state import curstate; print(curstate().uuid_to_server['\" + server_id + \"'].get_sessions()[0].document.roots[0]._id)\";\n",
       "      cell.notebook.kernel.execute(cmd, {\n",
       "        iopub: {\n",
       "          output: function(msg) {\n",
       "            var id = msg.content.text.trim();\n",
       "            if (id in Bokeh.index) {\n",
       "              Bokeh.index[id].model.document.clear();\n",
       "              delete Bokeh.index[id];\n",
       "            }\n",
       "          }\n",
       "        }\n",
       "      });\n",
       "      // Destroy server and session\n",
       "      var cmd = \"import bokeh.io.notebook as ion; ion.destroy_server('\" + server_id + \"')\";\n",
       "      cell.notebook.kernel.execute(cmd);\n",
       "    }\n",
       "  }\n",
       "\n",
       "  /**\n",
       "   * Handle when a new output is added\n",
       "   */\n",
       "  function handleAddOutput(event, handle) {\n",
       "    var output_area = handle.output_area;\n",
       "    var output = handle.output;\n",
       "\n",
       "    // limit handleAddOutput to display_data with EXEC_MIME_TYPE content only\n",
       "    if ((output.output_type != \"display_data\") || (!output.data.hasOwnProperty(EXEC_MIME_TYPE))) {\n",
       "      return\n",
       "    }\n",
       "\n",
       "    var toinsert = output_area.element.find(\".\" + CLASS_NAME.split(' ')[0]);\n",
       "\n",
       "    if (output.metadata[EXEC_MIME_TYPE][\"id\"] !== undefined) {\n",
       "      toinsert[toinsert.length - 1].firstChild.textContent = output.data[JS_MIME_TYPE];\n",
       "      // store reference to embed id on output_area\n",
       "      output_area._bokeh_element_id = output.metadata[EXEC_MIME_TYPE][\"id\"];\n",
       "    }\n",
       "    if (output.metadata[EXEC_MIME_TYPE][\"server_id\"] !== undefined) {\n",
       "      var bk_div = document.createElement(\"div\");\n",
       "      bk_div.innerHTML = output.data[HTML_MIME_TYPE];\n",
       "      var script_attrs = bk_div.children[0].attributes;\n",
       "      for (var i = 0; i < script_attrs.length; i++) {\n",
       "        toinsert[toinsert.length - 1].firstChild.setAttribute(script_attrs[i].name, script_attrs[i].value);\n",
       "      }\n",
       "      // store reference to server id on output_area\n",
       "      output_area._bokeh_server_id = output.metadata[EXEC_MIME_TYPE][\"server_id\"];\n",
       "    }\n",
       "  }\n",
       "\n",
       "  function register_renderer(events, OutputArea) {\n",
       "\n",
       "    function append_mime(data, metadata, element) {\n",
       "      // create a DOM node to render to\n",
       "      var toinsert = this.create_output_subarea(\n",
       "        metadata,\n",
       "        CLASS_NAME,\n",
       "        EXEC_MIME_TYPE\n",
       "      );\n",
       "      this.keyboard_manager.register_events(toinsert);\n",
       "      // Render to node\n",
       "      var props = {data: data, metadata: metadata[EXEC_MIME_TYPE]};\n",
       "      render(props, toinsert[toinsert.length - 1]);\n",
       "      element.append(toinsert);\n",
       "      return toinsert\n",
       "    }\n",
       "\n",
       "    /* Handle when an output is cleared or removed */\n",
       "    events.on('clear_output.CodeCell', handleClearOutput);\n",
       "    events.on('delete.Cell', handleClearOutput);\n",
       "\n",
       "    /* Handle when a new output is added */\n",
       "    events.on('output_added.OutputArea', handleAddOutput);\n",
       "\n",
       "    /**\n",
       "     * Register the mime type and append_mime function with output_area\n",
       "     */\n",
       "    OutputArea.prototype.register_mime_type(EXEC_MIME_TYPE, append_mime, {\n",
       "      /* Is output safe? */\n",
       "      safe: true,\n",
       "      /* Index of renderer in `output_area.display_order` */\n",
       "      index: 0\n",
       "    });\n",
       "  }\n",
       "\n",
       "  // register the mime type if in Jupyter Notebook environment and previously unregistered\n",
       "  if (root.Jupyter !== undefined) {\n",
       "    var events = require('base/js/events');\n",
       "    var OutputArea = require('notebook/js/outputarea').OutputArea;\n",
       "\n",
       "    if (OutputArea.prototype.mime_types().indexOf(EXEC_MIME_TYPE) == -1) {\n",
       "      register_renderer(events, OutputArea);\n",
       "    }\n",
       "  }\n",
       "\n",
       "  \n",
       "  if (typeof (root._bokeh_timeout) === \"undefined\" || force === true) {\n",
       "    root._bokeh_timeout = Date.now() + 5000;\n",
       "    root._bokeh_failed_load = false;\n",
       "  }\n",
       "\n",
       "  var NB_LOAD_WARNING = {'data': {'text/html':\n",
       "     \"<div style='background-color: #fdd'>\\n\"+\n",
       "     \"<p>\\n\"+\n",
       "     \"BokehJS does not appear to have successfully loaded. If loading BokehJS from CDN, this \\n\"+\n",
       "     \"may be due to a slow or bad network connection. Possible fixes:\\n\"+\n",
       "     \"</p>\\n\"+\n",
       "     \"<ul>\\n\"+\n",
       "     \"<li>re-rerun `output_notebook()` to attempt to load from CDN again, or</li>\\n\"+\n",
       "     \"<li>use INLINE resources instead, as so:</li>\\n\"+\n",
       "     \"</ul>\\n\"+\n",
       "     \"<code>\\n\"+\n",
       "     \"from bokeh.resources import INLINE\\n\"+\n",
       "     \"output_notebook(resources=INLINE)\\n\"+\n",
       "     \"</code>\\n\"+\n",
       "     \"</div>\"}};\n",
       "\n",
       "  function display_loaded() {\n",
       "    var el = document.getElementById(\"1001\");\n",
       "    if (el != null) {\n",
       "      el.textContent = \"BokehJS is loading...\";\n",
       "    }\n",
       "    if (root.Bokeh !== undefined) {\n",
       "      if (el != null) {\n",
       "        el.textContent = \"BokehJS \" + root.Bokeh.version + \" successfully loaded.\";\n",
       "      }\n",
       "    } else if (Date.now() < root._bokeh_timeout) {\n",
       "      setTimeout(display_loaded, 100)\n",
       "    }\n",
       "  }\n",
       "\n",
       "\n",
       "  function run_callbacks() {\n",
       "    try {\n",
       "      root._bokeh_onload_callbacks.forEach(function(callback) {\n",
       "        if (callback != null)\n",
       "          callback();\n",
       "      });\n",
       "    } finally {\n",
       "      delete root._bokeh_onload_callbacks\n",
       "    }\n",
       "    console.debug(\"Bokeh: all callbacks have finished\");\n",
       "  }\n",
       "\n",
       "  function load_libs(css_urls, js_urls, callback) {\n",
       "    if (css_urls == null) css_urls = [];\n",
       "    if (js_urls == null) js_urls = [];\n",
       "\n",
       "    root._bokeh_onload_callbacks.push(callback);\n",
       "    if (root._bokeh_is_loading > 0) {\n",
       "      console.debug(\"Bokeh: BokehJS is being loaded, scheduling callback at\", now());\n",
       "      return null;\n",
       "    }\n",
       "    if (js_urls == null || js_urls.length === 0) {\n",
       "      run_callbacks();\n",
       "      return null;\n",
       "    }\n",
       "    console.debug(\"Bokeh: BokehJS not loaded, scheduling load and callback at\", now());\n",
       "    root._bokeh_is_loading = css_urls.length + js_urls.length;\n",
       "\n",
       "    function on_load() {\n",
       "      root._bokeh_is_loading--;\n",
       "      if (root._bokeh_is_loading === 0) {\n",
       "        console.debug(\"Bokeh: all BokehJS libraries/stylesheets loaded\");\n",
       "        run_callbacks()\n",
       "      }\n",
       "    }\n",
       "\n",
       "    function on_error() {\n",
       "      console.error(\"failed to load \" + url);\n",
       "    }\n",
       "\n",
       "    for (var i = 0; i < css_urls.length; i++) {\n",
       "      var url = css_urls[i];\n",
       "      const element = document.createElement(\"link\");\n",
       "      element.onload = on_load;\n",
       "      element.onerror = on_error;\n",
       "      element.rel = \"stylesheet\";\n",
       "      element.type = \"text/css\";\n",
       "      element.href = url;\n",
       "      console.debug(\"Bokeh: injecting link tag for BokehJS stylesheet: \", url);\n",
       "      document.body.appendChild(element);\n",
       "    }\n",
       "\n",
       "    for (var i = 0; i < js_urls.length; i++) {\n",
       "      var url = js_urls[i];\n",
       "      var element = document.createElement('script');\n",
       "      element.onload = on_load;\n",
       "      element.onerror = on_error;\n",
       "      element.async = false;\n",
       "      element.src = url;\n",
       "      console.debug(\"Bokeh: injecting script tag for BokehJS library: \", url);\n",
       "      document.head.appendChild(element);\n",
       "    }\n",
       "  };var element = document.getElementById(\"1001\");\n",
       "  if (element == null) {\n",
       "    console.error(\"Bokeh: ERROR: autoload.js configured with elementid '1001' but no matching script tag was found. \")\n",
       "    return false;\n",
       "  }\n",
       "\n",
       "  function inject_raw_css(css) {\n",
       "    const element = document.createElement(\"style\");\n",
       "    element.appendChild(document.createTextNode(css));\n",
       "    document.body.appendChild(element);\n",
       "  }\n",
       "\n",
       "  \n",
       "  var js_urls = [\"https://cdn.pydata.org/bokeh/release/bokeh-1.4.0.min.js\", \"https://cdn.pydata.org/bokeh/release/bokeh-widgets-1.4.0.min.js\", \"https://cdn.pydata.org/bokeh/release/bokeh-tables-1.4.0.min.js\", \"https://cdn.pydata.org/bokeh/release/bokeh-gl-1.4.0.min.js\"];\n",
       "  var css_urls = [];\n",
       "  \n",
       "\n",
       "  var inline_js = [\n",
       "    function(Bokeh) {\n",
       "      Bokeh.set_log_level(\"info\");\n",
       "    },\n",
       "    function(Bokeh) {\n",
       "    \n",
       "    \n",
       "    }\n",
       "  ];\n",
       "\n",
       "  function run_inline_js() {\n",
       "    \n",
       "    if (root.Bokeh !== undefined || force === true) {\n",
       "      \n",
       "    for (var i = 0; i < inline_js.length; i++) {\n",
       "      inline_js[i].call(root, root.Bokeh);\n",
       "    }\n",
       "    if (force === true) {\n",
       "        display_loaded();\n",
       "      }} else if (Date.now() < root._bokeh_timeout) {\n",
       "      setTimeout(run_inline_js, 100);\n",
       "    } else if (!root._bokeh_failed_load) {\n",
       "      console.log(\"Bokeh: BokehJS failed to load within specified timeout.\");\n",
       "      root._bokeh_failed_load = true;\n",
       "    } else if (force !== true) {\n",
       "      var cell = $(document.getElementById(\"1001\")).parents('.cell').data().cell;\n",
       "      cell.output_area.append_execute_result(NB_LOAD_WARNING)\n",
       "    }\n",
       "\n",
       "  }\n",
       "\n",
       "  if (root._bokeh_is_loading === 0) {\n",
       "    console.debug(\"Bokeh: BokehJS loaded, going straight to plotting\");\n",
       "    run_inline_js();\n",
       "  } else {\n",
       "    load_libs(css_urls, js_urls, function() {\n",
       "      console.debug(\"Bokeh: BokehJS plotting callback run at\", now());\n",
       "      run_inline_js();\n",
       "    });\n",
       "  }\n",
       "}(window));"
      ],
      "application/vnd.bokehjs_load.v0+json": "\n(function(root) {\n  function now() {\n    return new Date();\n  }\n\n  var force = true;\n\n  if (typeof root._bokeh_onload_callbacks === \"undefined\" || force === true) {\n    root._bokeh_onload_callbacks = [];\n    root._bokeh_is_loading = undefined;\n  }\n\n  \n\n  \n  if (typeof (root._bokeh_timeout) === \"undefined\" || force === true) {\n    root._bokeh_timeout = Date.now() + 5000;\n    root._bokeh_failed_load = false;\n  }\n\n  var NB_LOAD_WARNING = {'data': {'text/html':\n     \"<div style='background-color: #fdd'>\\n\"+\n     \"<p>\\n\"+\n     \"BokehJS does not appear to have successfully loaded. If loading BokehJS from CDN, this \\n\"+\n     \"may be due to a slow or bad network connection. Possible fixes:\\n\"+\n     \"</p>\\n\"+\n     \"<ul>\\n\"+\n     \"<li>re-rerun `output_notebook()` to attempt to load from CDN again, or</li>\\n\"+\n     \"<li>use INLINE resources instead, as so:</li>\\n\"+\n     \"</ul>\\n\"+\n     \"<code>\\n\"+\n     \"from bokeh.resources import INLINE\\n\"+\n     \"output_notebook(resources=INLINE)\\n\"+\n     \"</code>\\n\"+\n     \"</div>\"}};\n\n  function display_loaded() {\n    var el = document.getElementById(\"1001\");\n    if (el != null) {\n      el.textContent = \"BokehJS is loading...\";\n    }\n    if (root.Bokeh !== undefined) {\n      if (el != null) {\n        el.textContent = \"BokehJS \" + root.Bokeh.version + \" successfully loaded.\";\n      }\n    } else if (Date.now() < root._bokeh_timeout) {\n      setTimeout(display_loaded, 100)\n    }\n  }\n\n\n  function run_callbacks() {\n    try {\n      root._bokeh_onload_callbacks.forEach(function(callback) {\n        if (callback != null)\n          callback();\n      });\n    } finally {\n      delete root._bokeh_onload_callbacks\n    }\n    console.debug(\"Bokeh: all callbacks have finished\");\n  }\n\n  function load_libs(css_urls, js_urls, callback) {\n    if (css_urls == null) css_urls = [];\n    if (js_urls == null) js_urls = [];\n\n    root._bokeh_onload_callbacks.push(callback);\n    if (root._bokeh_is_loading > 0) {\n      console.debug(\"Bokeh: BokehJS is being loaded, scheduling callback at\", now());\n      return null;\n    }\n    if (js_urls == null || js_urls.length === 0) {\n      run_callbacks();\n      return null;\n    }\n    console.debug(\"Bokeh: BokehJS not loaded, scheduling load and callback at\", now());\n    root._bokeh_is_loading = css_urls.length + js_urls.length;\n\n    function on_load() {\n      root._bokeh_is_loading--;\n      if (root._bokeh_is_loading === 0) {\n        console.debug(\"Bokeh: all BokehJS libraries/stylesheets loaded\");\n        run_callbacks()\n      }\n    }\n\n    function on_error() {\n      console.error(\"failed to load \" + url);\n    }\n\n    for (var i = 0; i < css_urls.length; i++) {\n      var url = css_urls[i];\n      const element = document.createElement(\"link\");\n      element.onload = on_load;\n      element.onerror = on_error;\n      element.rel = \"stylesheet\";\n      element.type = \"text/css\";\n      element.href = url;\n      console.debug(\"Bokeh: injecting link tag for BokehJS stylesheet: \", url);\n      document.body.appendChild(element);\n    }\n\n    for (var i = 0; i < js_urls.length; i++) {\n      var url = js_urls[i];\n      var element = document.createElement('script');\n      element.onload = on_load;\n      element.onerror = on_error;\n      element.async = false;\n      element.src = url;\n      console.debug(\"Bokeh: injecting script tag for BokehJS library: \", url);\n      document.head.appendChild(element);\n    }\n  };var element = document.getElementById(\"1001\");\n  if (element == null) {\n    console.error(\"Bokeh: ERROR: autoload.js configured with elementid '1001' but no matching script tag was found. \")\n    return false;\n  }\n\n  function inject_raw_css(css) {\n    const element = document.createElement(\"style\");\n    element.appendChild(document.createTextNode(css));\n    document.body.appendChild(element);\n  }\n\n  \n  var js_urls = [\"https://cdn.pydata.org/bokeh/release/bokeh-1.4.0.min.js\", \"https://cdn.pydata.org/bokeh/release/bokeh-widgets-1.4.0.min.js\", \"https://cdn.pydata.org/bokeh/release/bokeh-tables-1.4.0.min.js\", \"https://cdn.pydata.org/bokeh/release/bokeh-gl-1.4.0.min.js\"];\n  var css_urls = [];\n  \n\n  var inline_js = [\n    function(Bokeh) {\n      Bokeh.set_log_level(\"info\");\n    },\n    function(Bokeh) {\n    \n    \n    }\n  ];\n\n  function run_inline_js() {\n    \n    if (root.Bokeh !== undefined || force === true) {\n      \n    for (var i = 0; i < inline_js.length; i++) {\n      inline_js[i].call(root, root.Bokeh);\n    }\n    if (force === true) {\n        display_loaded();\n      }} else if (Date.now() < root._bokeh_timeout) {\n      setTimeout(run_inline_js, 100);\n    } else if (!root._bokeh_failed_load) {\n      console.log(\"Bokeh: BokehJS failed to load within specified timeout.\");\n      root._bokeh_failed_load = true;\n    } else if (force !== true) {\n      var cell = $(document.getElementById(\"1001\")).parents('.cell').data().cell;\n      cell.output_area.append_execute_result(NB_LOAD_WARNING)\n    }\n\n  }\n\n  if (root._bokeh_is_loading === 0) {\n    console.debug(\"Bokeh: BokehJS loaded, going straight to plotting\");\n    run_inline_js();\n  } else {\n    load_libs(css_urls, js_urls, function() {\n      console.debug(\"Bokeh: BokehJS plotting callback run at\", now());\n      run_inline_js();\n    });\n  }\n}(window));"
     },
     "metadata": {},
     "output_type": "display_data"
    }
   ],
   "source": [
    "output_notebook()"
   ]
  },
  {
   "cell_type": "code",
   "execution_count": 3,
   "id": "d259ed8f",
   "metadata": {},
   "outputs": [],
   "source": [
    "filename = '/nfs/cta-ifae/moralejo/CTA/LST/MC/DL2/20200629_prod5_trans_80/gamma/zenith_20deg/south_pointing/20210416_v0.7.3_prod5_trans_80_local_taicut_8_4/off0.4deg/dl2_gamma_20deg_180deg_off0.4deg_20210416_v0.7.3_prod5_trans_80_local_taicut_8_4_testing.h5'\n",
    "\n",
    "MC_data = pd.read_hdf(filename, 'dl2/event/telescope/parameters/LST_LSTCam')\n",
    "\n",
    "f = h5py.File(filename,'r')\n",
    "MC_config = f['simulation/run_config']"
   ]
  },
  {
   "cell_type": "code",
   "execution_count": 4,
   "id": "b1d5e2bb",
   "metadata": {},
   "outputs": [
    {
     "data": {
      "text/html": [
       "\n",
       "\n",
       "\n",
       "\n",
       "\n",
       "\n",
       "  <div class=\"bk-root\" id=\"ae287d34-dbe7-43ac-b448-8353a026934d\" data-root-id=\"1002\"></div>\n"
      ]
     },
     "metadata": {},
     "output_type": "display_data"
    },
    {
     "data": {
      "application/javascript": [
       "(function(root) {\n",
       "  function embed_document(root) {\n",
       "    \n",
       "  var docs_json = {\"fdc94a9a-8ed6-4e93-9fa4-37b1a1c8fd26\":{\"roots\":{\"references\":[{\"attributes\":{\"below\":[{\"id\":\"1013\",\"type\":\"LinearAxis\"}],\"center\":[{\"id\":\"1017\",\"type\":\"Grid\"},{\"id\":\"1022\",\"type\":\"Grid\"},{\"id\":\"1042\",\"type\":\"Whisker\"}],\"left\":[{\"id\":\"1018\",\"type\":\"LogAxis\"}],\"plot_height\":300,\"plot_width\":450,\"renderers\":[{\"id\":\"1039\",\"type\":\"GlyphRenderer\"}],\"title\":{\"id\":\"1003\",\"type\":\"Title\"},\"toolbar\":{\"id\":\"1029\",\"type\":\"Toolbar\"},\"x_range\":{\"id\":\"1005\",\"type\":\"DataRange1d\"},\"x_scale\":{\"id\":\"1009\",\"type\":\"LinearScale\"},\"y_range\":{\"id\":\"1007\",\"type\":\"DataRange1d\"},\"y_scale\":{\"id\":\"1011\",\"type\":\"LogScale\"}},\"id\":\"1002\",\"subtype\":\"Figure\",\"type\":\"Plot\"},{\"attributes\":{\"callback\":null},\"id\":\"1005\",\"type\":\"DataRange1d\"},{\"attributes\":{},\"id\":\"1014\",\"type\":\"BasicTicker\"},{\"attributes\":{\"source\":{\"id\":\"1036\",\"type\":\"ColumnDataSource\"}},\"id\":\"1040\",\"type\":\"CDSView\"},{\"attributes\":{},\"id\":\"1026\",\"type\":\"SaveTool\"},{\"attributes\":{},\"id\":\"1049\",\"type\":\"BasicTickFormatter\"},{\"attributes\":{\"bottom\":{\"value\":0.1},\"fill_alpha\":{\"value\":0.1},\"fill_color\":{\"value\":\"#1f77b4\"},\"left\":{\"field\":\"left\"},\"line_alpha\":{\"value\":0.1},\"line_color\":{\"value\":\"#1f77b4\"},\"right\":{\"field\":\"right\"},\"top\":{\"field\":\"top\"}},\"id\":\"1038\",\"type\":\"Quad\"},{\"attributes\":{\"num_minor_ticks\":10},\"id\":\"1019\",\"type\":\"LogTicker\"},{\"attributes\":{\"axis_label\":\"counts\",\"formatter\":{\"id\":\"1047\",\"type\":\"LogTickFormatter\"},\"ticker\":{\"id\":\"1019\",\"type\":\"LogTicker\"}},\"id\":\"1018\",\"type\":\"LogAxis\"},{\"attributes\":{},\"id\":\"1028\",\"type\":\"HelpTool\"},{\"attributes\":{\"dimension\":1,\"ticker\":{\"id\":\"1019\",\"type\":\"LogTicker\"}},\"id\":\"1022\",\"type\":\"Grid\"},{\"attributes\":{\"bottom_units\":\"screen\",\"fill_alpha\":{\"value\":0.5},\"fill_color\":{\"value\":\"lightgrey\"},\"left_units\":\"screen\",\"level\":\"overlay\",\"line_alpha\":{\"value\":1.0},\"line_color\":{\"value\":\"black\"},\"line_dash\":[4,4],\"line_width\":{\"value\":2},\"render_mode\":\"css\",\"right_units\":\"screen\",\"top_units\":\"screen\"},\"id\":\"1057\",\"type\":\"BoxAnnotation\"},{\"attributes\":{\"callback\":null,\"data\":{\"left\":{\"__ndarray__\":\"Qf/x03poAsD78+womBYCwLbo5321xAHAcN3i0tJyAcAq0t0n8CABwOXG2HwNzwDAn7vT0Sp9AMBZsM4mSCsAwCdKk/fKsv+/nDOJoQUP/78QHX9LQGv+v4UGdfV6x/2/+u9qn7Uj/b9u2WBJ8H/8v+PCVvMq3Pu/WKxMnWU4+7/MlUJHoJT6v0B/OPHa8Pm/tWgumxVN+b8qUiRFUKn4v547Gu+KBfi/EyUQmcVh97+IDgZDAL72v/z3++w6Gva/ceHxlnV29b/myudAsNL0v1q03erqLvS/z53TlCWL879Eh8k+YOfyv7hwv+iaQ/K/LVq1ktWf8b+hQ6s8EPzwvxYtoeZKWPC/Fi0uIQtp77/+/xl1gCHuv+jSBcn12ey/0KXxHGuS67+6eN1w4Erqv6RLycRVA+m/jB61GMu757928aBsQHTmv2DEjMC1LOW/SJd4FCvl478yamRooJ3ivxw9ULwVVuG/BBA8EIsO4L/cxU/IAI7dv6xrJ3Dr/tq/gBH/F9Zv2L9Ut9a/wODVvyRdrmerUdO/+AKGD5bC0L+QUbtuAWfMv0Cdar7WSMe/4OgZDqwqwr8AaZK7Ahm6v8AA4rVaua+/gF4+6V+Blr+AREeZ9W+SP8Bz5o2lsK0/gKKUJ6gUuT+gBRvEfqjBPwC6a3SpxsY/UG68JNTkyz9YkYZqf4HQP4jrrsKUENM/sEXXGqqf1T/gn/9yvy7YPxD6J8vUvdo/OFRQI+pM3T9ornh7/9vfP0yE0GmKNeE/ZLHkFRV94j943vjBn8TjP5ALDW4qDOU/qDghGrVT5j+8ZTXGP5vnP9SSSXLK4ug/7L9dHlUq6j8A7XHK33HrPxgahnZquew/MEeaIvUA7j9EdK7Of0jvP65QYT0FSPA/Omdrk8rr8D/EfXXpj4/xP1CUfz9VM/I/3KqJlRrX8j9mwZPr33rzP/LXnUGlHvQ/fu6nl2rC9D8KBbLtL2b1P5QbvEP1CfY/IDLGmbqt9j+sSNDvf1H3PzZf2kVF9fc/wnXkmwqZ+D9OjO7xzzz5P9ii+EeV4Pk/ZLkCnlqE+j8=\",\"dtype\":\"float64\",\"shape\":[100]},\"right\":{\"__ndarray__\":\"+/PsKJgWAsC26Od9tcQBwHDd4tLScgHAKtLdJ/AgAcDlxth8Dc8AwJ+709EqfQDAWbDOJkgrAMAnSpP3yrL/v5wziaEFD/+/EB1/S0Br/r+FBnX1esf9v/rvap+1I/2/btlgSfB//L/jwlbzKtz7v1isTJ1lOPu/zJVCR6CU+r9Afzjx2vD5v7VoLpsVTfm/KlIkRVCp+L+eOxrvigX4vxMlEJnFYfe/iA4GQwC+9r/89/vsOhr2v3Hh8ZZ1dvW/5srnQLDS9L9atN3q6i70v8+d05Qli/O/RIfJPmDn8r+4cL/omkPyvy1atZLVn/G/oUOrPBD88L8WLaHmSljwvxYtLiELae+//v8ZdYAh7r/o0gXJ9dnsv9Cl8Rxrkuu/unjdcOBK6r+kS8nEVQPpv4wetRjLu+e/dvGgbEB05r9gxIzAtSzlv0iXeBQr5eO/MmpkaKCd4r8cPVC8FVbhvwQQPBCLDuC/3MVPyACO3b+saydw6/7av4AR/xfWb9i/VLfWv8Dg1b8kXa5nq1HTv/gChg+WwtC/kFG7bgFnzL9AnWq+1kjHv+DoGQ6sKsK/AGmSuwIZur/AAOK1Wrmvv4BePulfgZa/gERHmfVvkj/Ac+aNpbCtP4CilCeoFLk/oAUbxH6owT8Aumt0qcbGP1BuvCTU5Ms/WJGGan+B0D+I667ClBDTP7BF1xqqn9U/4J//cr8u2D8Q+ifL1L3aPzhUUCPqTN0/aK54e//b3z9MhNBpijXhP2Sx5BUVfeI/eN74wZ/E4z+QCw1uKgzlP6g4IRq1U+Y/vGU1xj+b5z/UkklyyuLoP+y/XR5VKuo/AO1xyt9x6z8YGoZ2arnsPzBHmiL1AO4/RHSuzn9I7z+uUGE9BUjwPzpna5PK6/A/xH116Y+P8T9QlH8/VTPyP9yqiZUa1/I/ZsGT69968z/y151BpR70P37up5dqwvQ/CgWy7S9m9T+UG7xD9Qn2PyAyxpm6rfY/rEjQ739R9z82X9pFRfX3P8J15JsKmfg/Tozu8c88+T/YovhHleD5P2S5Ap5ahPo/8M8M9B8o+z8=\",\"dtype\":\"float64\",\"shape\":[100]},\"top\":[781,1134,1635,2217,2980,3865,5093,6849,8482,10398,12620,15115,17749,20262,22584,25208,27735,29154,30501,31101,31666,31656,31778,31203,30948,29794,29193,28149,27354,26629,25541,23984,23715,22696,21686,20798,19534,18671,17844,17149,16280,15187,14566,13560,12858,11680,11120,10561,9634,9468,8482,7872,7162,6730,6099,5602,5190,4948,4341,4404,3800,3498,3171,2788,2716,2508,2274,2004,1813,1749,1508,1455,1359,1124,1199,1012,881,942,682,689,633,596,449,441,466,422,360,334,257,298,240,206,198,180,163,151,128,104,108,152]},\"selected\":{\"id\":\"1053\",\"type\":\"Selection\"},\"selection_policy\":{\"id\":\"1054\",\"type\":\"UnionRenderers\"}},\"id\":\"1036\",\"type\":\"ColumnDataSource\"},{\"attributes\":{\"level\":\"underlay\",\"line_color\":{\"value\":\"gray\"},\"size\":10},\"id\":\"1045\",\"type\":\"TeeHead\"},{\"attributes\":{},\"id\":\"1053\",\"type\":\"Selection\"},{\"attributes\":{\"text\":\"Distribution of the energy of the simulated gamma rays\",\"text_font_size\":{\"value\":\"8pt\"},\"text_font_style\":\"normal\"},\"id\":\"1003\",\"type\":\"Title\"},{\"attributes\":{},\"id\":\"1056\",\"type\":\"UnionRenderers\"},{\"attributes\":{\"active_drag\":\"auto\",\"active_inspect\":\"auto\",\"active_multi\":null,\"active_scroll\":\"auto\",\"active_tap\":\"auto\",\"tools\":[{\"id\":\"1023\",\"type\":\"PanTool\"},{\"id\":\"1024\",\"type\":\"WheelZoomTool\"},{\"id\":\"1025\",\"type\":\"BoxZoomTool\"},{\"id\":\"1026\",\"type\":\"SaveTool\"},{\"id\":\"1027\",\"type\":\"ResetTool\"},{\"id\":\"1028\",\"type\":\"HelpTool\"}]},\"id\":\"1029\",\"type\":\"Toolbar\"},{\"attributes\":{\"level\":\"underlay\",\"line_color\":{\"value\":\"gray\"},\"size\":10},\"id\":\"1044\",\"type\":\"TeeHead\"},{\"attributes\":{\"overlay\":{\"id\":\"1057\",\"type\":\"BoxAnnotation\"}},\"id\":\"1025\",\"type\":\"BoxZoomTool\"},{\"attributes\":{},\"id\":\"1023\",\"type\":\"PanTool\"},{\"attributes\":{},\"id\":\"1055\",\"type\":\"Selection\"},{\"attributes\":{\"callback\":null},\"id\":\"1007\",\"type\":\"DataRange1d\"},{\"attributes\":{\"ticker\":null},\"id\":\"1047\",\"type\":\"LogTickFormatter\"},{\"attributes\":{},\"id\":\"1054\",\"type\":\"UnionRenderers\"},{\"attributes\":{},\"id\":\"1024\",\"type\":\"WheelZoomTool\"},{\"attributes\":{\"data_source\":{\"id\":\"1036\",\"type\":\"ColumnDataSource\"},\"glyph\":{\"id\":\"1037\",\"type\":\"Quad\"},\"hover_glyph\":null,\"muted_glyph\":null,\"nonselection_glyph\":{\"id\":\"1038\",\"type\":\"Quad\"},\"selection_glyph\":null,\"view\":{\"id\":\"1040\",\"type\":\"CDSView\"}},\"id\":\"1039\",\"type\":\"GlyphRenderer\"},{\"attributes\":{\"base\":{\"field\":\"base\",\"units\":\"data\"},\"line_color\":{\"value\":\"gray\"},\"lower\":{\"field\":\"lower\",\"units\":\"data\"},\"lower_head\":{\"id\":\"1045\",\"type\":\"TeeHead\"},\"source\":{\"id\":\"1041\",\"type\":\"ColumnDataSource\"},\"upper\":{\"field\":\"upper\",\"units\":\"data\"},\"upper_head\":{\"id\":\"1044\",\"type\":\"TeeHead\"}},\"id\":\"1042\",\"type\":\"Whisker\"},{\"attributes\":{\"callback\":null,\"data\":{\"base\":{\"__ndarray__\":\"nnlvfok/AsBYbmrTpu0BwBNjZSjEmwHAzVdgfeFJAcCITFvS/vcAwEJBViccpgDA/DVRfDlUAMC2KkzRVgIAwOI+jkzoYP+/ViiE9iK9/r/KEXqgXRn+v0D7b0qYdf2/tORl9NLR/L8ozlueDS78v563UUhIivu/EqFH8oLm+r+Gij2cvUL6v/pzM0b4nvm/cF0p8DL7+L/kRh+abVf4v1gwFUSos/e/zhkL7uIP979CAwGYHWz2v7bs9kFYyPW/LNbs65Ik9b+gv+KVzYD0vxSp2D8I3fO/ipLO6UI587/+e8STfZXyv3Jluj248fG/506w5/JN8b9cOKaRLarwv9AhnDtoBvC/ihYky0XF7r9z6Q8fu33tv1y8+3IwNuy/RY/nxqXu6r8vYtMaG6fpvxg1v26QX+i/AQirwgUY57/r2pYWe9Dlv9StgmrwiOS/vYBuvmVB47+nU1oS2/nhv5AmRmZQsuC/8vJjdIvV3r/EmDscdkbcv5Y+E8Rgt9m/auTqa0so1788isITNpnUvw4wmrsgCtK/wKvjxhb2zr9o95IW7NfJvxBDQmbBucS/YB3jay03v7+wtEEL2Pq0vwCYQFUFfaW/AGjcP6lFYL8AC0UtUHSjPzDuQ3d99rM/4Fbl19Iyvj/QX0MclDfEPygUlMy+Vck/gMjkfOlzzj9wvpoWCsnRP5wYw24fWNQ/yHLrxjTn1j/4zBMfSnbZPyQnPHdfBdw/UIFkz3SU3j/AbcYTxZHgP9ia2r9P2eE/7sfua9og4z8E9QIYZWjkPxwiF8Tvr+U/Mk8rcHr35j9IfD8cBT/oP2CpU8iPhuk/dtZndBrO6j+MA3wgpRXsP6QwkMwvXe0/ul2keLqk7j/QirgkRezvP/RbZujnmfA/f3JwPq098T8KiXqUcuHxP5afhOo3hfI/IbaOQP0o8z+szJiWwszzPzjjouyHcPQ/xPmsQk0U9T9PELeYErj1P9omwe7XW/Y/Zj3LRJ3/9j/xU9WaYqP3P3xq3/AnR/g/CIHpRu3q+D+Tl/Ocso75Px6u/fJ3Mvo/qsQHST3W+j8=\",\"dtype\":\"float64\",\"shape\":[100]},\"lower\":{\"__ndarray__\":\"ZoTj6Db4h0By1VhxpnSRQBlYNzYhO5lA2z+CO+oioUAyQKMeaRGnQCFHR7TU861ADrk8P1HBs0APDGbjnpe6QJGREb75ecBAWKzz4YE1xECniolR6onIQJt5o6TDZs1AGKa+yZhE0UDOBZz4tLfTQJ55YAw3+9VAQ7jpWSeK2EC33mDG7gDbQH9xeyUoY9xADpxAWWuz3UCsh9alNEneQO3WQp5B1t5ANv90hMLT3kBeuIuON/LeQKL2u2arYt5Axp/IiwIj3kDUwOl/7ALdQE4DOn7kbNxAXq7JJUdo20BACHWB06HaQBPFHh3a7NlA7HBF50Xd2EBOs+s7pFjXQMABmRqAFddAUaB/IysX1kAPVGKgFxvVQKa+wh15PdRAKoiZjAcC00BO79F1qyrSQHms4GRNXNFAio9Fd+Gu0EDBnZgKGqzPQPYHzeywis1ACZU03NNUzEByw5Vd417KQCz8GNemAMlAxUnJQvu0xkBoqhYco53FQPGD9e3OhsRAKEEzNna4wkC4IAaRrGXCQJGREb75ecBAg+dlSqOTvkC57wWKr8+7QPwjcFH7ILpAt6Ars/Ort0AgwpKlk7y1QHa+D6v6IbRAGAmjONQws0AR9tiODtSwQAFsApXRErFAcJajGVtyrUBsSt8p2xirQPiA0ziwjahAXYrnzzKTpUAZYIZ+4gOlQE2/TonrZaNAubAaQ1CUoUDDwyvHd/aeQH0iDGHX/ptAkxuvn1sAm0AnQjaEVUKXQPVnCwm2b5ZAo4zlUEXylEAbq8+h8kyRQHWW/DC/dpJAWpjZkMAgj0D90BL/RRGLQFsqgF879YxAZadvG4rnhEACURU4AR+FQPNWU65cY4NA84xe+Vg+gkBb8HSoe2Z7QAAAAAAA6HpAGweRwU1zfEBlGxqtqLt5QNzhnu416HVArlgpb8tNdED5CfAfgB9vQIDA3AnmFXJAiYV1CiEIbUCXUyVXW9poQPAL0Cvc3mdAiOC0ZFapZUDTO9DFuZNjQLIhZIJjG2JAQwyYGfaVXkAB3Q6qqblYQGjcGz1ys1lAzUfYHr06YkA=\",\"dtype\":\"float64\",\"shape\":[100]},\"upper\":{\"__ndarray__\":\"mnscF8nXiECOKqeOWfuRQOenyMne3JlAJcB9xBWBoUDOv1zhln6nQN+4uEsrcK5A8kbDwK4ItEDx85kcYeq6QG9u7kEGqMBAqFMMHn5oxEBZdXauFcLIQGWGXFs8pM1A6FlBNudl0UAy+mMHS9vTQGKGn/PIINZAvUcWptix2EBJIZ85kSrbQIGOhNrXjdxA8mO/phTf3UBUeClaS3XeQBMpvWG+At9AygCLez0A30CiR3RxyB7fQF4JRJnUjt5AOmA3dP1O3kAsPxaAEy7dQLL8xYGbl9xAolE22jiS20DA94p+LMvaQO064eKlFdpAFI+6GDoF2UCyTBTEW3/XQED+ZuX/O9dAr1+A3NQ81kDxq51f6D/VQFpBPeKGYdRA1ndmc/gk00CyEC6K1EzSQIdTH5uyfdFAdnC6iJ7P0EA/Ymf15evPQAr4MhNPyM1A92rLIyyRzECOPGqiHJnKQNQD5yhZOclAO7Y2vQTrxkCYVenjXNLFQA98ChIxusRA2L7MyYnpwkBI3/luU5bCQG9u7kEGqMBAfRiatVzsvkBHEPp1UCS8QATcj64Ec7pASV/UTAz6t0DgPW1abAe2QIpB8FQFarRA6PZcxyt3s0DvCSdx8RWxQP+T/WouVbFAkGlc5qTtrUCUtSDWJI+rQAh/LMdP/qhAo3UYMM38pUDnn3mBHWylQLNAsXYUyqNAR0/lvK/zoUA9PNQ4iKmfQIPd854oqZxAbeRQYKSnm0DZvcl7qt2XQAuY9PZJCJdAXXMar7qFlUDlVDBeDdORQItpA89AAZNA0zOTt58PkEADL+0Auv6LQKXVf6DE6o1Am1iQ5HW4hUD+rurH/vCFQA2prFGjLIRADXOhBqcBg0ClD4tXhLl8QAAAAAAAOHxA5fhuPrLMfUCb5OVSVwR7QCQeYRHKF3dAUqfWkDRydUAE+wfwP5BwQIA/I/YZKnNAd3qK9d73bkBprNqopKVqQBD0L9QjoWlAeB9Lm6lWZ0AtxC86RixlQE7em32cpGNA3vkz8wS1YED/IvFVVkZbQJgj5MKNTFxAM7gn4ULFY0A=\",\"dtype\":\"float64\",\"shape\":[100]}},\"selected\":{\"id\":\"1055\",\"type\":\"Selection\"},\"selection_policy\":{\"id\":\"1056\",\"type\":\"UnionRenderers\"}},\"id\":\"1041\",\"type\":\"ColumnDataSource\"},{\"attributes\":{},\"id\":\"1027\",\"type\":\"ResetTool\"},{\"attributes\":{},\"id\":\"1011\",\"type\":\"LogScale\"},{\"attributes\":{},\"id\":\"1009\",\"type\":\"LinearScale\"},{\"attributes\":{\"ticker\":{\"id\":\"1014\",\"type\":\"BasicTicker\"}},\"id\":\"1017\",\"type\":\"Grid\"},{\"attributes\":{\"bottom\":{\"value\":0.1},\"fill_color\":{\"value\":\"#1f77b4\"},\"left\":{\"field\":\"left\"},\"line_color\":{\"value\":\"#1f77b4\"},\"right\":{\"field\":\"right\"},\"top\":{\"field\":\"top\"}},\"id\":\"1037\",\"type\":\"Quad\"},{\"attributes\":{\"axis_label\":\"log(mc_energy)\",\"formatter\":{\"id\":\"1049\",\"type\":\"BasicTickFormatter\"},\"ticker\":{\"id\":\"1014\",\"type\":\"BasicTicker\"}},\"id\":\"1013\",\"type\":\"LinearAxis\"}],\"root_ids\":[\"1002\"]},\"title\":\"Bokeh Application\",\"version\":\"1.4.0\"}};\n",
       "  var render_items = [{\"docid\":\"fdc94a9a-8ed6-4e93-9fa4-37b1a1c8fd26\",\"roots\":{\"1002\":\"ae287d34-dbe7-43ac-b448-8353a026934d\"}}];\n",
       "  root.Bokeh.embed.embed_items_notebook(docs_json, render_items);\n",
       "\n",
       "  }\n",
       "  if (root.Bokeh !== undefined) {\n",
       "    embed_document(root);\n",
       "  } else {\n",
       "    var attempts = 0;\n",
       "    var timer = setInterval(function(root) {\n",
       "      if (root.Bokeh !== undefined) {\n",
       "        clearInterval(timer);\n",
       "        embed_document(root);\n",
       "      } else {\n",
       "        attempts++;\n",
       "        if (attempts > 100) {\n",
       "          clearInterval(timer);\n",
       "          console.log(\"Bokeh: ERROR: Unable to run BokehJS code because BokehJS library is missing\");\n",
       "        }\n",
       "      }\n",
       "    }, 10, root)\n",
       "  }\n",
       "})(window);"
      ],
      "application/vnd.bokehjs_exec.v0+json": ""
     },
     "metadata": {
      "application/vnd.bokehjs_exec.v0+json": {
       "id": "1002"
      }
     },
     "output_type": "display_data"
    }
   ],
   "source": [
    "#energy distribution of the simulated gamma rays:\n",
    "fig = figure(title = 'Distribution of the energy of the simulated gamma rays', plot_width=450, plot_height=300,\n",
    "             y_axis_type='log')\n",
    "\n",
    "n, b = np.histogram(np.log10(MC_data['mc_energy']), bins=100, range = (min(np.log10(MC_data['mc_energy'])),\n",
    "                                                  max(np.log10(MC_data['mc_energy']))))\n",
    "fig.quad(top=n, bottom=0.1, left=b[:-1], right=b[1:])\n",
    "\n",
    "base = (b[1:]+b[:-1])/2\n",
    "lower = n-np.sqrt(n)/2\n",
    "upper = n+np.sqrt(n)/2\n",
    "source_error = ColumnDataSource(data=dict(base=base, lower=lower, upper=upper))\n",
    "w=Whisker(source=source_error, base='base', upper='upper', lower='lower', line_color='gray')\n",
    "w.upper_head.line_color = 'gray'\n",
    "w.lower_head.line_color = 'gray'\n",
    "fig.add_layout(w)\n",
    "\n",
    "fig.xaxis.axis_label = 'log(mc_energy)'\n",
    "fig.yaxis.axis_label = 'counts'\n",
    "fig.title.text_font_size = '8pt'\n",
    "fig.title.text_font_style = 'normal'    \n",
    "\n",
    "show(fig)"
   ]
  },
  {
   "cell_type": "code",
   "execution_count": 5,
   "id": "fcb797ad",
   "metadata": {},
   "outputs": [],
   "source": [
    "def calculate_event_weights(target_spectrum, simulated_spectrum):\n",
    "    \n",
    "    return (target_spectrum/simulated_spectrum)"
   ]
  },
  {
   "cell_type": "code",
   "execution_count": 6,
   "id": "03461ea7",
   "metadata": {
    "scrolled": false
   },
   "outputs": [],
   "source": [
    "Emin = np.unique(MC_config['energy_range_min'])[0]\n",
    "Emax = np.unique(MC_config['energy_range_max'])[0]\n",
    "N,b = np.histogram(MC_data['mc_energy'], bins=100, range=(Emin, Emax))\n",
    "E = (b[1:]+b[:-1])/2\n",
    "\n",
    "radius = np.unique(MC_config['max_scatter_range'])[0]*100  #radius of the circle in which the MC is generated (in cm)\n",
    "area = np.pi*radius**2\n",
    "simulated_spectrum = N/(E*area)  #dN/(dE dA) en (sucesos/cm²/TeV)\n",
    "\n",
    "target_spectrum = CRAB_MAGIC_JHEAP2015(E*u.TeV).value\n",
    "\n",
    "weight = calculate_event_weights(target_spectrum, simulated_spectrum)"
   ]
  },
  {
   "cell_type": "code",
   "execution_count": 7,
   "id": "845ebc6d",
   "metadata": {},
   "outputs": [
    {
     "data": {
      "text/html": [
       "\n",
       "\n",
       "\n",
       "\n",
       "\n",
       "\n",
       "  <div class=\"bk-root\" id=\"5abf6eca-87d7-4c81-97f5-a5a973de4035\" data-root-id=\"1208\"></div>\n"
      ]
     },
     "metadata": {},
     "output_type": "display_data"
    },
    {
     "data": {
      "application/javascript": [
       "(function(root) {\n",
       "  function embed_document(root) {\n",
       "    \n",
       "  var docs_json = {\"d57ae64a-a5cc-4851-94bc-9355a849be9f\":{\"roots\":{\"references\":[{\"attributes\":{\"children\":[{\"id\":\"1130\",\"subtype\":\"Figure\",\"type\":\"Plot\"},{\"id\":\"1169\",\"subtype\":\"Figure\",\"type\":\"Plot\"}]},\"id\":\"1208\",\"type\":\"Row\"},{\"attributes\":{\"axis_label\":\"energy (TeV)\",\"formatter\":{\"id\":\"1225\",\"type\":\"BasicTickFormatter\"},\"ticker\":{\"id\":\"1142\",\"type\":\"BasicTicker\"}},\"id\":\"1141\",\"type\":\"LinearAxis\"},{\"attributes\":{},\"id\":\"1232\",\"type\":\"UnionRenderers\"},{\"attributes\":{\"bottom_units\":\"screen\",\"fill_alpha\":{\"value\":0.5},\"fill_color\":{\"value\":\"lightgrey\"},\"left_units\":\"screen\",\"level\":\"overlay\",\"line_alpha\":{\"value\":1.0},\"line_color\":{\"value\":\"black\"},\"line_dash\":[4,4],\"line_width\":{\"value\":2},\"render_mode\":\"css\",\"right_units\":\"screen\",\"top_units\":\"screen\"},\"id\":\"1233\",\"type\":\"BoxAnnotation\"},{\"attributes\":{},\"id\":\"1229\",\"type\":\"BasicTickFormatter\"},{\"attributes\":{},\"id\":\"1231\",\"type\":\"Selection\"},{\"attributes\":{\"active_drag\":\"auto\",\"active_inspect\":\"auto\",\"active_multi\":null,\"active_scroll\":\"auto\",\"active_tap\":\"auto\",\"tools\":[{\"id\":\"1151\",\"type\":\"PanTool\"},{\"id\":\"1152\",\"type\":\"WheelZoomTool\"},{\"id\":\"1153\",\"type\":\"BoxZoomTool\"},{\"id\":\"1154\",\"type\":\"SaveTool\"},{\"id\":\"1155\",\"type\":\"ResetTool\"},{\"id\":\"1156\",\"type\":\"HelpTool\"}]},\"id\":\"1157\",\"type\":\"Toolbar\"},{\"attributes\":{\"callback\":null,\"data\":{\"x\":{\"__ndarray__\":\"4np0qYJR0D9TuC55WCjoP5qZ0c73E/Q/C9cLYcMT/D8+CqN5xwkCQPYowEKtCQZArkfdC5MJCkBoZvrUeAkOQJDCC0+vBBFA7FGaM6IEE0BI4SgYlQQVQKRwt/yHBBdAAABG4XoEGUBcj9TFbQQbQLkeY6pgBB1AFq7xjlMEH0C5HsA5I4IgQGdmB6wcgiFAFa5OHhaCIkDD9ZWQD4IjQHE93QIJgiRAH4UkdQKCJUDNzGvn+4EmQHsUs1n1gSdAKVz6y+6BKEDXo0E+6IEpQIbriLDhgSpANDPQItuBK0DieheV1IEsQJDCXgfOgS1APgqmeceBLkDsUe3rwIEvQM5MGi/dQDBApPA96NnAMEB8lGGh1kAxQFI4hVrTwDFAKtyoE9BAMkAAgMzMzMAyQNgj8IXJQDNArscTP8bAM0CGazf4wkA0QFwPW7G/wDRANLN+arxANUAKV6IjucA1QOL6xdy1QDZAuJ7plbLANkCQQg1Pr0A3QGbmMAiswDdAPopUwahAOEAULnh6pcA4QOzRmzOiQDlAwnW/7J7AOUCaGeOlm0A6QHG9Bl+YwDpASGEqGJVAO0AgBU7RkcA7QPaocYqOQDxAzkyVQ4vAPECk8Lj8h0A9QHyU3LWEwD1AUjgAb4FAPkAq3CMofsA+QACAR+F6QD9A2CNrmnfAP0DYY8cpOiBAQMM1WYY4YEBArgfr4jagQECa2Xw/NeBAQIarDpwzIEFAcX2g+DFgQUBcTzJVMKBBQEghxLEu4EFANPNVDi0gQkAfxedqK2BCQAqXeccpoEJA9mgLJCjgQkDiOp2AJiBDQM0ML90kYENAuN7AOSOgQ0CksFKWIeBDQJCC5PIfIERAe1R2Tx5gREBmJgisHKBEQFL4mQgb4ERAPsorZRkgRUApnL3BF2BFQBVuTx4WoEVAAEDhehTgRUDsEXPXEiBGQNjjBDQRYEZAw7WWkA+gRkCuhyjtDeBGQJpZukkMIEdAhitMpgpgR0Bx/d0CCaBHQFzPb18H4EdASKEBvAUgSEA0c5MYBGBIQB9FJXUCoEhAChe30QDgSEA=\",\"dtype\":\"float64\",\"shape\":[100]},\"y\":{\"__ndarray__\":\"OXQMnpy1Cj4nyMm6NqLRPWJfcWFhKbQ9xDq25E0ioT1vbPiXUMyRPcFtg4jT5IQ9hg43urOkej2VE1TQ6whyPQahtiJxjGk9R8wZSbHAYj1pgw4k+FRcPZbsfQZj6lU9mVdX+ABLUT0t6frK1sFLPVObypbDmkY9rFefiu+kQj1slW35HRo/PUx85ZFiMzo9aPObFLJENj0Wx3Ee2BMzPRPk7WBDdjA9ch2N7amYLD3IkJHndPwoPQ1e69GM8yU93ZSByOBhIz0Yvm6QijEhPd/lsTqRoh49POSQy8RmGz3SLyP/rpkYPYqdwxiIKRY90owWQ9cHFD1D2FSRwCgSPeBdOnl8ghA9Z9FCbdwZDj1SVqfiooILPeniTRTzMwk9Pjsz1TwkBz2VoGF/Z0sFPd4W35mQogM94/9YKNcjAj1eqzPzMMoAPYQ9XWuPIv88RxPPLrnq/DwIiTpiYeb6PIfXV0PjD/k8IXGL2lJi9zwWlcoTYtn1POWimTdKcfQ8nUqO+7gm8zyGMtmIwPbxPDsQPPbJ3vA8qbenlhO57zxBeFVt7NvtPLNJXF99Iuw8rJp+lImJ6jyoLoUXLA7pPGYsqjPNrec8jE8TQxlm5jxKCh63+DTlPErBRiyJGOQ87XviYhcP4zzWwgX8GRfiPJu7Cd8sL+E8Y0dbMA1W4DwtmI2LKxXfPJ3bzA54l908oKWjXRox3DwqZYawV+DaPOQzTbabo9k83xgIwnR52DyzC+5lkGDXPM6l7m24V9Y8jzJALtBd1TyNXdEb0nHUPIDZ2aXNktM8FO3oSOW/0jyfVMvUTPjRPBCOed9HO9E87ar5XyiI0DzcFIHZmrzPPLUnUzNEes48tJwp5DhIzTzBT0gYeSXMPH0z2GQXEcs8MBF3QzcKyjzQqcixCxDJPKfuVfHVIcg8jL1xZOQ+xzy3ODiFkWbGPMojEPRCmMU8+ilem2jTxDzf0lnmexfEPPxQLAn/Y8M8mTCzWHy4wjzPDW2whRTCPDGXPeWzd8E8dtjYQ6bhwDwBosQZAlLAPDqn9I/kkL88yYeXvE2Jvjw=\",\"dtype\":\"float64\",\"shape\":[100]}},\"selected\":{\"id\":\"1231\",\"type\":\"Selection\"},\"selection_policy\":{\"id\":\"1232\",\"type\":\"UnionRenderers\"}},\"id\":\"1164\",\"type\":\"ColumnDataSource\"},{\"attributes\":{\"fill_color\":{\"value\":\"#1f77b4\"},\"line_color\":{\"value\":\"#1f77b4\"},\"x\":{\"field\":\"x\"},\"y\":{\"field\":\"y\"}},\"id\":\"1204\",\"type\":\"Circle\"},{\"attributes\":{\"fill_alpha\":{\"value\":0.1},\"fill_color\":{\"value\":\"#1f77b4\"},\"line_alpha\":{\"value\":0.1},\"line_color\":{\"value\":\"#1f77b4\"},\"x\":{\"field\":\"x\"},\"y\":{\"field\":\"y\"}},\"id\":\"1205\",\"type\":\"Circle\"},{\"attributes\":{\"axis_label\":\"dN/(dE dA) (1/TeV/cm\\u00b2)\",\"formatter\":{\"id\":\"1227\",\"type\":\"LogTickFormatter\"},\"ticker\":{\"id\":\"1186\",\"type\":\"LogTicker\"}},\"id\":\"1185\",\"type\":\"LogAxis\"},{\"attributes\":{\"ticker\":null},\"id\":\"1223\",\"type\":\"LogTickFormatter\"},{\"attributes\":{\"overlay\":{\"id\":\"1233\",\"type\":\"BoxAnnotation\"}},\"id\":\"1153\",\"type\":\"BoxZoomTool\"},{\"attributes\":{\"num_minor_ticks\":10},\"id\":\"1186\",\"type\":\"LogTicker\"},{\"attributes\":{\"data_source\":{\"id\":\"1203\",\"type\":\"ColumnDataSource\"},\"glyph\":{\"id\":\"1204\",\"type\":\"Circle\"},\"hover_glyph\":null,\"muted_glyph\":null,\"nonselection_glyph\":{\"id\":\"1205\",\"type\":\"Circle\"},\"selection_glyph\":null,\"view\":{\"id\":\"1207\",\"type\":\"CDSView\"}},\"id\":\"1206\",\"type\":\"GlyphRenderer\"},{\"attributes\":{},\"id\":\"1155\",\"type\":\"ResetTool\"},{\"attributes\":{},\"id\":\"1176\",\"type\":\"LinearScale\"},{\"attributes\":{},\"id\":\"1156\",\"type\":\"HelpTool\"},{\"attributes\":{\"callback\":null},\"id\":\"1133\",\"type\":\"DataRange1d\"},{\"attributes\":{\"callback\":null},\"id\":\"1172\",\"type\":\"DataRange1d\"},{\"attributes\":{},\"id\":\"1154\",\"type\":\"SaveTool\"},{\"attributes\":{\"axis_label\":\"energy (TeV)\",\"formatter\":{\"id\":\"1229\",\"type\":\"BasicTickFormatter\"},\"ticker\":{\"id\":\"1181\",\"type\":\"BasicTicker\"}},\"id\":\"1180\",\"type\":\"LinearAxis\"},{\"attributes\":{},\"id\":\"1152\",\"type\":\"WheelZoomTool\"},{\"attributes\":{},\"id\":\"1178\",\"type\":\"LogScale\"},{\"attributes\":{},\"id\":\"1181\",\"type\":\"BasicTicker\"},{\"attributes\":{\"callback\":null},\"id\":\"1174\",\"type\":\"DataRange1d\"},{\"attributes\":{},\"id\":\"1193\",\"type\":\"SaveTool\"},{\"attributes\":{\"source\":{\"id\":\"1164\",\"type\":\"ColumnDataSource\"}},\"id\":\"1168\",\"type\":\"CDSView\"},{\"attributes\":{},\"id\":\"1195\",\"type\":\"HelpTool\"},{\"attributes\":{\"bottom_units\":\"screen\",\"fill_alpha\":{\"value\":0.5},\"fill_color\":{\"value\":\"lightgrey\"},\"left_units\":\"screen\",\"level\":\"overlay\",\"line_alpha\":{\"value\":1.0},\"line_color\":{\"value\":\"black\"},\"line_dash\":[4,4],\"line_width\":{\"value\":2},\"render_mode\":\"css\",\"right_units\":\"screen\",\"top_units\":\"screen\"},\"id\":\"1236\",\"type\":\"BoxAnnotation\"},{\"attributes\":{},\"id\":\"1225\",\"type\":\"BasicTickFormatter\"},{\"attributes\":{\"fill_color\":{\"value\":\"#1f77b4\"},\"line_color\":{\"value\":\"#1f77b4\"},\"x\":{\"field\":\"x\"},\"y\":{\"field\":\"y\"}},\"id\":\"1165\",\"type\":\"Circle\"},{\"attributes\":{\"source\":{\"id\":\"1203\",\"type\":\"ColumnDataSource\"}},\"id\":\"1207\",\"type\":\"CDSView\"},{\"attributes\":{},\"id\":\"1190\",\"type\":\"PanTool\"},{\"attributes\":{\"text\":\"Target_spectrum (Crab nebula)\"},\"id\":\"1131\",\"type\":\"Title\"},{\"attributes\":{\"text\":\"Simulated spectrum\"},\"id\":\"1170\",\"type\":\"Title\"},{\"attributes\":{},\"id\":\"1235\",\"type\":\"UnionRenderers\"},{\"attributes\":{\"below\":[{\"id\":\"1180\",\"type\":\"LinearAxis\"}],\"center\":[{\"id\":\"1184\",\"type\":\"Grid\"},{\"id\":\"1189\",\"type\":\"Grid\"}],\"left\":[{\"id\":\"1185\",\"type\":\"LogAxis\"}],\"plot_height\":300,\"plot_width\":400,\"renderers\":[{\"id\":\"1206\",\"type\":\"GlyphRenderer\"}],\"title\":{\"id\":\"1170\",\"type\":\"Title\"},\"toolbar\":{\"id\":\"1196\",\"type\":\"Toolbar\"},\"x_range\":{\"id\":\"1172\",\"type\":\"DataRange1d\"},\"x_scale\":{\"id\":\"1176\",\"type\":\"LinearScale\"},\"y_range\":{\"id\":\"1174\",\"type\":\"DataRange1d\"},\"y_scale\":{\"id\":\"1178\",\"type\":\"LogScale\"}},\"id\":\"1169\",\"subtype\":\"Figure\",\"type\":\"Plot\"},{\"attributes\":{\"dimension\":1,\"ticker\":{\"id\":\"1186\",\"type\":\"LogTicker\"}},\"id\":\"1189\",\"type\":\"Grid\"},{\"attributes\":{\"axis_label\":\"dF/dE (1/TeV/s/cm\\u00b2)\",\"formatter\":{\"id\":\"1223\",\"type\":\"LogTickFormatter\"},\"ticker\":{\"id\":\"1147\",\"type\":\"LogTicker\"}},\"id\":\"1146\",\"type\":\"LogAxis\"},{\"attributes\":{\"fill_alpha\":{\"value\":0.1},\"fill_color\":{\"value\":\"#1f77b4\"},\"line_alpha\":{\"value\":0.1},\"line_color\":{\"value\":\"#1f77b4\"},\"x\":{\"field\":\"x\"},\"y\":{\"field\":\"y\"}},\"id\":\"1166\",\"type\":\"Circle\"},{\"attributes\":{\"callback\":null},\"id\":\"1135\",\"type\":\"DataRange1d\"},{\"attributes\":{},\"id\":\"1151\",\"type\":\"PanTool\"},{\"attributes\":{\"callback\":null,\"data\":{\"x\":{\"__ndarray__\":\"4np0qYJR0D9TuC55WCjoP5qZ0c73E/Q/C9cLYcMT/D8+CqN5xwkCQPYowEKtCQZArkfdC5MJCkBoZvrUeAkOQJDCC0+vBBFA7FGaM6IEE0BI4SgYlQQVQKRwt/yHBBdAAABG4XoEGUBcj9TFbQQbQLkeY6pgBB1AFq7xjlMEH0C5HsA5I4IgQGdmB6wcgiFAFa5OHhaCIkDD9ZWQD4IjQHE93QIJgiRAH4UkdQKCJUDNzGvn+4EmQHsUs1n1gSdAKVz6y+6BKEDXo0E+6IEpQIbriLDhgSpANDPQItuBK0DieheV1IEsQJDCXgfOgS1APgqmeceBLkDsUe3rwIEvQM5MGi/dQDBApPA96NnAMEB8lGGh1kAxQFI4hVrTwDFAKtyoE9BAMkAAgMzMzMAyQNgj8IXJQDNArscTP8bAM0CGazf4wkA0QFwPW7G/wDRANLN+arxANUAKV6IjucA1QOL6xdy1QDZAuJ7plbLANkCQQg1Pr0A3QGbmMAiswDdAPopUwahAOEAULnh6pcA4QOzRmzOiQDlAwnW/7J7AOUCaGeOlm0A6QHG9Bl+YwDpASGEqGJVAO0AgBU7RkcA7QPaocYqOQDxAzkyVQ4vAPECk8Lj8h0A9QHyU3LWEwD1AUjgAb4FAPkAq3CMofsA+QACAR+F6QD9A2CNrmnfAP0DYY8cpOiBAQMM1WYY4YEBArgfr4jagQECa2Xw/NeBAQIarDpwzIEFAcX2g+DFgQUBcTzJVMKBBQEghxLEu4EFANPNVDi0gQkAfxedqK2BCQAqXeccpoEJA9mgLJCjgQkDiOp2AJiBDQM0ML90kYENAuN7AOSOgQ0CksFKWIeBDQJCC5PIfIERAe1R2Tx5gREBmJgisHKBEQFL4mQgb4ERAPsorZRkgRUApnL3BF2BFQBVuTx4WoEVAAEDhehTgRUDsEXPXEiBGQNjjBDQRYEZAw7WWkA+gRkCuhyjtDeBGQJpZukkMIEdAhitMpgpgR0Bx/d0CCaBHQFzPb18H4EdASKEBvAUgSEA0c5MYBGBIQB9FJXUCoEhAChe30QDgSEA=\",\"dtype\":\"float64\",\"shape\":[100]},\"y\":{\"__ndarray__\":\"k9foQclNJz9JAU+IBB7LPv7Du+6L0ac+PJZjwdQbkT5R83vShHqAPuCYCvIWcHE+E6CFdpJ8ZT5wglUD0EBePlpGcXwc9FI+y5BNt+XxTT4EyJy1axlFPgmqjbGi9T4+SlDawppqPD7Hsx//5wYyPtNjY26n6iw+l7dHaSb9Kz6Ynw/rH0okPmEaJyC2OiU+zR46sombGz72B3jkiPMWPt2oXextKhM+AhYvsEOPET6Td3KVoRgQPiYbLM5KWxA+uSqER8MrDD52TWxW5TUNPisOtVkzkQI+7sYcLbICAz60t9DSc2IBPsO+A5SlzPs9iD6flziL+T1L1QDYRMX7PXgcYdJGxPM9n1d78NDE8j1za0U9yYHuPZMa+6MBues9J7Dif+3U7z39FbqxzwnwPYKgKTcaLPM95TnWDoHq6D3iOp21A+3kPSy0F+RU/Nw94d+UHVU65T2eVxYo0CrePTOk/ErJlOQ9RG7KY2zX3D14yBybrDjMPcQdV+n97d09Evf8j1rg3T1DSsf4sJ3bPT5KGuZfMtY9dqsfzN3T1j2ji6jyoNTUPQPGhtEl7tM9DSA8gIQT1z0rREO9iaHIPSby2y+BAM49IlMS33P40z0tfmwH1sfPPTcyKAYZdsE9J2bWsb7JxD1nvDHzXsjBPQKj3U1LH8s9M8/Bf4TVyT0hNYaR/265PbnfGx2RM8M9GYCOF7d9yT2/VdXZqU3IPYmrQ5EK9cM9TndvYN14vz2bg2H3bRDBPbKMrhISaqU9SL9i2VipvD1ZW1PROY3IPTaOacAE1L49MfhRWABioT15FmhOu5e8PTB+KSHEZrk9xo7VJ5p4uj39TZzUjIOrPaBZhMzZvJU9qqgWeEIuvD0vUhvMluKzPX2lHIMDB7E9oJfG4oB5rD3QTYyOQSSsPTt4E5s297I9gO/Cg61/tj2n3z3J3sWjPRZGFsJRjbM9+shVyYUrqD2WgPXA5UuqPWmqU4lQvLE9NYifwRwOpT3/kuqENXapPaDeJa1SfKs9ntBn3kYiwj2/PpdCK1C1PZGh/clKwrs9grbn8xzJsz0=\",\"dtype\":\"float64\",\"shape\":[100]}},\"selected\":{\"id\":\"1234\",\"type\":\"Selection\"},\"selection_policy\":{\"id\":\"1235\",\"type\":\"UnionRenderers\"}},\"id\":\"1203\",\"type\":\"ColumnDataSource\"},{\"attributes\":{},\"id\":\"1194\",\"type\":\"ResetTool\"},{\"attributes\":{\"active_drag\":\"auto\",\"active_inspect\":\"auto\",\"active_multi\":null,\"active_scroll\":\"auto\",\"active_tap\":\"auto\",\"tools\":[{\"id\":\"1190\",\"type\":\"PanTool\"},{\"id\":\"1191\",\"type\":\"WheelZoomTool\"},{\"id\":\"1192\",\"type\":\"BoxZoomTool\"},{\"id\":\"1193\",\"type\":\"SaveTool\"},{\"id\":\"1194\",\"type\":\"ResetTool\"},{\"id\":\"1195\",\"type\":\"HelpTool\"}]},\"id\":\"1196\",\"type\":\"Toolbar\"},{\"attributes\":{\"overlay\":{\"id\":\"1236\",\"type\":\"BoxAnnotation\"}},\"id\":\"1192\",\"type\":\"BoxZoomTool\"},{\"attributes\":{},\"id\":\"1139\",\"type\":\"LogScale\"},{\"attributes\":{\"data_source\":{\"id\":\"1164\",\"type\":\"ColumnDataSource\"},\"glyph\":{\"id\":\"1165\",\"type\":\"Circle\"},\"hover_glyph\":null,\"muted_glyph\":null,\"nonselection_glyph\":{\"id\":\"1166\",\"type\":\"Circle\"},\"selection_glyph\":null,\"view\":{\"id\":\"1168\",\"type\":\"CDSView\"}},\"id\":\"1167\",\"type\":\"GlyphRenderer\"},{\"attributes\":{\"ticker\":null},\"id\":\"1227\",\"type\":\"LogTickFormatter\"},{\"attributes\":{\"num_minor_ticks\":10},\"id\":\"1147\",\"type\":\"LogTicker\"},{\"attributes\":{},\"id\":\"1142\",\"type\":\"BasicTicker\"},{\"attributes\":{\"below\":[{\"id\":\"1141\",\"type\":\"LinearAxis\"}],\"center\":[{\"id\":\"1145\",\"type\":\"Grid\"},{\"id\":\"1150\",\"type\":\"Grid\"}],\"left\":[{\"id\":\"1146\",\"type\":\"LogAxis\"}],\"plot_height\":300,\"plot_width\":400,\"renderers\":[{\"id\":\"1167\",\"type\":\"GlyphRenderer\"}],\"title\":{\"id\":\"1131\",\"type\":\"Title\"},\"toolbar\":{\"id\":\"1157\",\"type\":\"Toolbar\"},\"x_range\":{\"id\":\"1133\",\"type\":\"DataRange1d\"},\"x_scale\":{\"id\":\"1137\",\"type\":\"LinearScale\"},\"y_range\":{\"id\":\"1135\",\"type\":\"DataRange1d\"},\"y_scale\":{\"id\":\"1139\",\"type\":\"LogScale\"}},\"id\":\"1130\",\"subtype\":\"Figure\",\"type\":\"Plot\"},{\"attributes\":{\"ticker\":{\"id\":\"1142\",\"type\":\"BasicTicker\"}},\"id\":\"1145\",\"type\":\"Grid\"},{\"attributes\":{\"ticker\":{\"id\":\"1181\",\"type\":\"BasicTicker\"}},\"id\":\"1184\",\"type\":\"Grid\"},{\"attributes\":{},\"id\":\"1191\",\"type\":\"WheelZoomTool\"},{\"attributes\":{\"dimension\":1,\"ticker\":{\"id\":\"1147\",\"type\":\"LogTicker\"}},\"id\":\"1150\",\"type\":\"Grid\"},{\"attributes\":{},\"id\":\"1234\",\"type\":\"Selection\"},{\"attributes\":{},\"id\":\"1137\",\"type\":\"LinearScale\"}],\"root_ids\":[\"1208\"]},\"title\":\"Bokeh Application\",\"version\":\"1.4.0\"}};\n",
       "  var render_items = [{\"docid\":\"d57ae64a-a5cc-4851-94bc-9355a849be9f\",\"roots\":{\"1208\":\"5abf6eca-87d7-4c81-97f5-a5a973de4035\"}}];\n",
       "  root.Bokeh.embed.embed_items_notebook(docs_json, render_items);\n",
       "\n",
       "  }\n",
       "  if (root.Bokeh !== undefined) {\n",
       "    embed_document(root);\n",
       "  } else {\n",
       "    var attempts = 0;\n",
       "    var timer = setInterval(function(root) {\n",
       "      if (root.Bokeh !== undefined) {\n",
       "        clearInterval(timer);\n",
       "        embed_document(root);\n",
       "      } else {\n",
       "        attempts++;\n",
       "        if (attempts > 100) {\n",
       "          clearInterval(timer);\n",
       "          console.log(\"Bokeh: ERROR: Unable to run BokehJS code because BokehJS library is missing\");\n",
       "        }\n",
       "      }\n",
       "    }, 10, root)\n",
       "  }\n",
       "})(window);"
      ],
      "application/vnd.bokehjs_exec.v0+json": ""
     },
     "metadata": {
      "application/vnd.bokehjs_exec.v0+json": {
       "id": "1208"
      }
     },
     "output_type": "display_data"
    }
   ],
   "source": [
    "fig1 = figure(plot_width=400, plot_height=300, y_axis_type='log', title = 'Target_spectrum (Crab nebula)', \n",
    "             x_axis_label='energy (TeV)', y_axis_label='dF/dE (1/TeV/s/cm²)')\n",
    "fig1.circle(E, target_spectrum)\n",
    "\n",
    "fig2 = figure(plot_width=400, plot_height=300, y_axis_type='log', title = 'Simulated spectrum',\n",
    "             x_axis_label='energy (TeV)', y_axis_label='dN/(dE dA) (1/TeV/cm²)')\n",
    "fig2.circle(E, simulated_spectrum)\n",
    "\n",
    "show(row(fig1, fig2))"
   ]
  },
  {
   "cell_type": "code",
   "execution_count": 8,
   "id": "d647c1e8",
   "metadata": {},
   "outputs": [
    {
     "data": {
      "text/plain": [
       "(1014253, 60)"
      ]
     },
     "execution_count": 8,
     "metadata": {},
     "output_type": "execute_result"
    }
   ],
   "source": [
    "MC_data.shape"
   ]
  },
  {
   "cell_type": "code",
   "execution_count": 9,
   "id": "38d100fe",
   "metadata": {
    "scrolled": true
   },
   "outputs": [
    {
     "data": {
      "text/plain": [
       "1014253.0"
      ]
     },
     "execution_count": 9,
     "metadata": {},
     "output_type": "execute_result"
    }
   ],
   "source": [
    "area*(np.sum(simulated_spectrum*E))"
   ]
  },
  {
   "cell_type": "code",
   "execution_count": 10,
   "id": "073c967b",
   "metadata": {},
   "outputs": [
    {
     "data": {
      "text/plain": [
       "50000000"
      ]
     },
     "execution_count": 10,
     "metadata": {},
     "output_type": "execute_result"
    }
   ],
   "source": [
    "tot_events = np.sum(MC_config['num_showers']*MC_config['shower_reuse'])   #total number of simulated events\n",
    "tot_events"
   ]
  },
  {
   "cell_type": "code",
   "execution_count": 12,
   "id": "d3a57a1c",
   "metadata": {},
   "outputs": [],
   "source": [
    "def distribution_gammas(df, par, bins, weight, xlims=None):  #distribution of the given parameter of the simulated gamma rays\n",
    "    fig = figure(title = 'Distribution of {} of the simulated gamma rays'.format(par),\n",
    "                  plot_width=450, plot_height=300, x_range=xlims)\n",
    "    \n",
    "    n, b = np.histogram(df[par], bins=bins, range = (xlims), weights=weight)  \n",
    "    fig.quad(top=n, bottom=0, left=b[:-1], right=b[1:])\n",
    "\n",
    "    base = (b[1:]+b[:-1])/2\n",
    "    lower = n-np.sqrt(n)/2\n",
    "    upper = n+np.sqrt(n)/2\n",
    "    source_error = ColumnDataSource(data=dict(base=base, lower=lower, upper=upper))\n",
    "    w=Whisker(source=source_error, base='base', upper='upper', lower='lower', line_color='gray')\n",
    "    w.upper_head.line_color = 'gray'\n",
    "    w.lower_head.line_color = 'gray'\n",
    "    fig.add_layout(w)\n",
    "\n",
    "    fig.xaxis.axis_label = par\n",
    "    fig.yaxis.axis_label = 'counts'\n",
    "    fig.title.text_font_size = '8pt'\n",
    "    fig.title.text_font_style = 'normal'    \n",
    "    \n",
    "    show(fig)"
   ]
  },
  {
   "cell_type": "code",
   "execution_count": null,
   "id": "c106cd71",
   "metadata": {},
   "outputs": [],
   "source": [
    "distribution_gammas(MC_data, 'width', 50)"
   ]
  },
  {
   "cell_type": "code",
   "execution_count": null,
   "id": "d212daa6",
   "metadata": {},
   "outputs": [],
   "source": [
    "distribution_gammas(MC_data, 'length', 50)"
   ]
  },
  {
   "cell_type": "code",
   "execution_count": null,
   "id": "6e6b4d8c",
   "metadata": {},
   "outputs": [],
   "source": [
    "distribution_gammas(MC_data, 'log_intensity', 40)"
   ]
  },
  {
   "cell_type": "code",
   "execution_count": null,
   "id": "137c2747",
   "metadata": {},
   "outputs": [],
   "source": []
  },
  {
   "cell_type": "code",
   "execution_count": null,
   "id": "71bfb135",
   "metadata": {},
   "outputs": [],
   "source": []
  }
 ],
 "metadata": {
  "kernelspec": {
   "display_name": "Python 3",
   "language": "python",
   "name": "python3"
  },
  "language_info": {
   "codemirror_mode": {
    "name": "ipython",
    "version": 3
   },
   "file_extension": ".py",
   "mimetype": "text/x-python",
   "name": "python",
   "nbconvert_exporter": "python",
   "pygments_lexer": "ipython3",
   "version": "3.8.5"
  }
 },
 "nbformat": 4,
 "nbformat_minor": 5
}
