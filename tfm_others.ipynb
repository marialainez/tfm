{
 "cells": [
  {
   "cell_type": "markdown",
   "id": "cd477121",
   "metadata": {},
   "source": [
    "## Calculate the equatorial coordinates (right ascension and declination) of the events + make a skymap of the reconstructed directions of the events in these coordinates."
   ]
  },
  {
   "cell_type": "code",
   "execution_count": 3,
   "id": "24d6c598",
   "metadata": {},
   "outputs": [],
   "source": [
    "def utc(df):   #function that calculates the utc time of the events  \n",
    "    utc_time = []\n",
    "    for i in range(df.shape[0]):\n",
    "        idx = list(df.columns).index('dragon_time')\n",
    "        a = datetime.utcfromtimestamp(df.iloc[i,idx])   #idx corresponds to the index of the column 'dragon_time'\n",
    "        utc_time.append(a)\n",
    "        \n",
    "    return utc_time"
   ]
  },
  {
   "cell_type": "code",
   "execution_count": 4,
   "id": "cc119cec",
   "metadata": {},
   "outputs": [],
   "source": [
    "def equatorial_coords(df):   #function that calculates the equatorial coordinates (ra and dec) of the events from the horizontal coordinates \n",
    "    utc_time = []\n",
    "    for i in range(df.shape[0]):\n",
    "        idx = list(df.columns).index('dragon_time')\n",
    "        a = datetime.utcfromtimestamp(df.iloc[i,idx])   #idx corresponds to the index of the column 'dragon_time'\n",
    "        utc_time.append(a)\n",
    "\n",
    "    df = df.assign(utc_time = utc_time)   #add new column to the data frame with the UTC observation times of the events\n",
    "\n",
    "    loc = EarthLocation(lat = 28.76152611*u.deg, lon = -17.89149701*u.deg, height = 2184*u.m)   #location of the telescope (CTA LST1: Roque de los Muchachos)\n",
    "\n",
    "    hor_coords = SkyCoord(alt = df['reco_alt'], az = df['reco_az'], frame = 'altaz', unit = 'rad', \n",
    "                          obstime = df['utc_time'], location = loc)   #horizontal coordinates of the events\n",
    "    eq_coords = hor_coords.icrs   #equatorial coordinates of the events\n",
    "    \n",
    "    return eq_coords"
   ]
  },
  {
   "cell_type": "code",
   "execution_count": null,
   "id": "5e1bc0b3",
   "metadata": {},
   "outputs": [],
   "source": [
    "data = tot_data[(tot_data['gammaness']>0.8)]\n",
    "\n",
    "eq_coords = equatorial_coords(data)\n",
    "data = data.assign(utc_time = utc(data))   #add new column to the data frame with the UTC observation times of the events\n",
    "data = data.assign(RA = eq_coords.ra)   #add columns with right ascension and declination (equatorial coordinates) of the events\n",
    "data = data.assign(DEC = eq_coords.dec)\n",
    "\n",
    "# skymap (RA, dec) de las posiciones reconstruidas de los sucesos (ya se ha aplicado el corte de gammaness > 0.8):\n",
    "counts, bins_x, bins_y = np.histogram2d(data['RA'], data['DEC'], bins=250)\n",
    "fig = figure(x_range=(min(bins_x), max(bins_x)), y_range=(min(bins_y), max(bins_y)), plot_width=500, plot_height=300)\n",
    "fig.image(image=[counts], x=bins_x[0], y=bins_y[0], dw=bins_x[-1] - bins_x[0], dh=bins_y[-1] - bins_y[0], palette=Inferno256) \n",
    "fig.xaxis.axis_label = 'right ascension (deg)'\n",
    "fig.yaxis.axis_label = 'declination (deg)'\n",
    "color_mapper = LinearColorMapper(palette=Inferno256, low=counts.min(), high=counts.max())\n",
    "color_bar = ColorBar(color_mapper=color_mapper, ticker= BasicTicker(), location=(0,0))\n",
    "fig.add_layout(color_bar, 'right')\n",
    "show(fig)"
   ]
  }
 ],
 "metadata": {
  "kernelspec": {
   "display_name": "Python 3",
   "language": "python",
   "name": "python3"
  },
  "language_info": {
   "codemirror_mode": {
    "name": "ipython",
    "version": 3
   },
   "file_extension": ".py",
   "mimetype": "text/x-python",
   "name": "python",
   "nbconvert_exporter": "python",
   "pygments_lexer": "ipython3",
   "version": "3.7.10"
  }
 },
 "nbformat": 4,
 "nbformat_minor": 5
}
